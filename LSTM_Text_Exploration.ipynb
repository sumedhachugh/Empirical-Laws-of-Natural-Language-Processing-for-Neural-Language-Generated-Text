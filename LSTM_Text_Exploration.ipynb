{
 "cells": [
  {
   "cell_type": "markdown",
   "metadata": {},
   "source": [
    "## Importing Libraries"
   ]
  },
  {
   "cell_type": "code",
   "execution_count": 60,
   "metadata": {},
   "outputs": [
    {
     "name": "stderr",
     "output_type": "stream",
     "text": [
      "[nltk_data] Downloading package punkt to /Users/sumedha/nltk_data...\n",
      "[nltk_data]   Package punkt is already up-to-date!\n",
      "[nltk_data] Downloading package wordnet to /Users/sumedha/nltk_data...\n",
      "[nltk_data]   Package wordnet is already up-to-date!\n"
     ]
    }
   ],
   "source": [
    "## Importing Libraries\n",
    "import nltk\n",
    "nltk.download('punkt')\n",
    "nltk.download('wordnet')\n",
    "from nltk.tokenize import RegexpTokenizer\n",
    "from nltk import sent_tokenize, word_tokenize\n",
    "from nltk.stem.snowball import SnowballStemmer\n",
    "from nltk.stem.wordnet import WordNetLemmatizer\n",
    "from nltk.corpus import stopwords\n",
    "import pandas as pd\n",
    "import numpy as np\n",
    "import re  \n",
    "import spacy\n",
    "#import en_core_web_sm\n",
    "#nlp = en_core_web_sm.load()\n",
    "nlp = spacy.load('en',disable=['parser', 'tagger','ner'])\n",
    "import matplotlib.pyplot as plt; plt.rcdefaults()\n",
    "import numpy as np\n",
    "import matplotlib.pyplot as plt\n",
    "import seaborn as sns\n",
    "from pickle import dump,load\n",
    "import tensorflow as tf\n",
    "from random import randint\n",
    "from pickle import load\n",
    "from keras.models import load_model\n",
    "from keras.preprocessing.sequence import pad_sequences"
   ]
  },
  {
   "cell_type": "markdown",
   "metadata": {},
   "source": [
    "## Ignoring the Warnings"
   ]
  },
  {
   "cell_type": "code",
   "execution_count": 61,
   "metadata": {},
   "outputs": [],
   "source": [
    "import warnings\n",
    "warnings.filterwarnings('ignore')"
   ]
  },
  {
   "cell_type": "markdown",
   "metadata": {},
   "source": [
    "## Importing the dataset\n",
    "Link for dataset: https://www.gutenberg.org/files/1661/1661-0.txt"
   ]
  },
  {
   "cell_type": "code",
   "execution_count": 62,
   "metadata": {},
   "outputs": [
    {
     "name": "stdout",
     "output_type": "stream",
     "text": [
      "Book contains a total of 594199 characters\n"
     ]
    }
   ],
   "source": [
    "text = open(\"Sherlock.txt\", 'rb').read().decode(encoding='utf-8')\n",
    "print ('Book contains a total of {} characters'.format(len(text)))"
   ]
  },
  {
   "cell_type": "markdown",
   "metadata": {},
   "source": [
    "## Data Preprocessing \n",
    "see notebook https://colab.research.google.com/drive/1WJsVfnH3kEzKkcG5CHrpBn0Q7-DUjhXt?usp=sharing for details"
   ]
  },
  {
   "cell_type": "code",
   "execution_count": 63,
   "metadata": {},
   "outputs": [
    {
     "name": "stdout",
     "output_type": "stream",
     "text": [
      "465 : i.\n",
      "7 : a\n",
      "981 : scandal\n",
      "9 : in\n",
      "1056 : bohemia\n",
      "465 : i.\n",
      "4 : to\n",
      "136 : sherlock\n",
      "36 : holmes\n",
      "41 : she\n",
      "16 : is\n",
      "229 : always\n",
      "1 : the\n",
      "194 : woman\n",
      "3 : i\n",
      "18 : have\n",
      "1832 : seldom\n",
      "121 : heard\n",
      "38 : him\n",
      "4563 : mention\n",
      "40 : her\n",
      "268 : under\n",
      "93 : any\n",
      "96 : other\n",
      "217 : name\n",
      "9 : in\n"
     ]
    }
   ],
   "source": [
    "text = text [1300:]\n",
    "# cleaning text by removing punctuations\n",
    "def separate_punc(doc_text):\n",
    "    return [token.text.lower() for token in nlp(doc_text) if token.text not in '\\n\\n \\n\\n\\n!\"-#$%&()--.*+,-/:;<=>?@[\\\\]^_`{|}~\\t\\n \\r\\n\\r\\n\\r\\n \\r\\n\\r\\n']\n",
    "tokens = separate_punc(text)\n",
    "# Creating Sequence of tokens\n",
    "# organize into sequences of tokens\n",
    "train_len = 25+1 # 50 training words , then one target word\n",
    "\n",
    "# Empty list of sequences\n",
    "text_sequences = []\n",
    "\n",
    "for i in range(train_len, len(tokens)):\n",
    "    \n",
    "    # Grab train_len# amount of characters\n",
    "    seq = tokens[i-train_len:i]\n",
    "    \n",
    "    # Add to list of sequences\n",
    "    text_sequences.append(seq)\n",
    "### Character to Integer Mapping\n",
    "from keras.preprocessing.text import Tokenizer\n",
    "tokenizer = Tokenizer()\n",
    "tokenizer.fit_on_texts(text_sequences)\n",
    "sequences = tokenizer.texts_to_sequences(text_sequences)\n",
    "for i in sequences[0]:\n",
    "    print(f'{i} : {tokenizer.index_word[i]}')\n",
    "vocabulary_size = len(tokenizer.word_counts)\n",
    "sequences = np.array(sequences)\n",
    "from keras.utils import to_categorical\n",
    "X = sequences[:,:-1]\n",
    "# last Word\n",
    "y = sequences[:,-1]\n",
    "y = to_categorical(y, num_classes=vocabulary_size+1)\n",
    "seq_len = X.shape[1]"
   ]
  },
  {
   "cell_type": "markdown",
   "metadata": {},
   "source": [
    "## Loading the model and tokenizer\n",
    "Model trained in colab notebook\n",
    "\n",
    "For details refer  https://colab.research.google.com/drive/1WJsVfnH3kEzKkcG5CHrpBn0Q7-DUjhXt?usp=sharing"
   ]
  },
  {
   "cell_type": "code",
   "execution_count": 64,
   "metadata": {},
   "outputs": [],
   "source": [
    "from tensorflow.keras.models import load_model\n",
    "model = load_model('lstm_model.h5', compile = False)"
   ]
  },
  {
   "cell_type": "code",
   "execution_count": 65,
   "metadata": {},
   "outputs": [],
   "source": [
    "tokkenizer = load(open('lstm_token','rb'))"
   ]
  },
  {
   "cell_type": "markdown",
   "metadata": {},
   "source": [
    "## Function for generating Text Sequences\n",
    "    '''\n",
    "    INPUTS:\n",
    "    model : model that was trained on text data\n",
    "    tokenizer : tokenizer that was fit on text data\n",
    "    seq_len : length of training sequence\n",
    "    seed_text : raw string text to serve as the seed\n",
    "    num_gen_words : number of words to be generated by model\n",
    "    temprature: Introduces randomness in the model\n",
    "    '''"
   ]
  },
  {
   "cell_type": "code",
   "execution_count": 66,
   "metadata": {},
   "outputs": [],
   "source": [
    "def generate_text(model, tokenizer, seq_len, seed_text, num_gen_words,temperature=1.0):\n",
    "\n",
    "    \n",
    "    # Final Output\n",
    "    output_text = []\n",
    "    \n",
    "    # Intial Seed Sequence\n",
    "    input_text = seed_text\n",
    "    \n",
    "    # Create num_gen_words\n",
    "    for i in range(num_gen_words):\n",
    "        \n",
    "        # Take the input text string and encode it to a sequence\n",
    "        encoded_text = tokenizer.texts_to_sequences([input_text])[0]\n",
    "        \n",
    "        # Pad sequences to our trained rate (50 words in the video)\n",
    "        pad_encoded = pad_sequences([encoded_text], maxlen=seq_len, truncating='pre')\n",
    "        \n",
    "        # Predict Class Probabilities for each word\n",
    "        pred_word_ind = model.predict_classes(pad_encoded, verbose=0)[0]\n",
    "        \n",
    "        # Grab word\n",
    "        pred_word = tokenizer.index_word[pred_word_ind] \n",
    "        \n",
    "        # Update the sequence of input text (shifting one over with the new word)\n",
    "        input_text += ' ' + pred_word\n",
    "        \n",
    "        output_text.append(pred_word)\n",
    "        \n",
    "    # Make it look like a sentence.\n",
    "    return ' '.join(output_text)"
   ]
  },
  {
   "cell_type": "markdown",
   "metadata": {},
   "source": [
    "## Generating Script for Word Length = 50 and Temprature = 1"
   ]
  },
  {
   "cell_type": "code",
   "execution_count": 67,
   "metadata": {},
   "outputs": [
    {
     "name": "stdout",
     "output_type": "stream",
     "text": [
      "all machinery is given you through hand where is very such so long that miss remark is its laughed or coupled ’ judgment from all the house was the disposition of the city branch of it and save the full which he had promised to have spoken to us to\n"
     ]
    }
   ],
   "source": [
    "generated_script = generate_text(model,tokenizer,seq_len,seed_text=\"Watson you are\",num_gen_words=50)\n",
    "print(generated_script)"
   ]
  },
  {
   "cell_type": "markdown",
   "metadata": {},
   "source": [
    "### Saving the generated Script"
   ]
  },
  {
   "cell_type": "code",
   "execution_count": 68,
   "metadata": {},
   "outputs": [],
   "source": [
    "f =  open(\"generated_script.txt\",\"w\")\n",
    "f.write(generated_script)\n",
    "f.close()"
   ]
  },
  {
   "cell_type": "markdown",
   "metadata": {},
   "source": [
    "### Exploring if Generated Script follows Zipfs law"
   ]
  },
  {
   "cell_type": "code",
   "execution_count": 69,
   "metadata": {},
   "outputs": [
    {
     "data": {
      "image/png": "[encoded data removed]",
      "text/plain": [
       "<Figure size 500x200 with 1 Axes>"
      ]
     },
     "metadata": {},
     "output_type": "display_data"
    }
   ],
   "source": [
    "t1 = open(\"generated_script.txt\", 'rb').read().decode(encoding='utf-8')\n",
    "sentences1 = sent_tokenize(t1)\n",
    "tokenizer1 = RegexpTokenizer('[A-Za-z]\\w+')\n",
    "tokens1=tokenizer1.tokenize(t1)\n",
    "df1 = pd.DataFrame(tokens1)\n",
    "df1 = df1[0].value_counts()\n",
    "from nltk.probability import FreqDist\n",
    "freqdoctor = FreqDist()\n",
    "for words in df1:\n",
    "    freqdoctor[words] += 1\n",
    "df1 = df1[:5,]\n",
    "#freqdoctor\n",
    "plt.figure(figsize=(5,2))\n",
    "sns.barplot(df1.values, df1.index, alpha=0.8)\n",
    "plt.title(' Top Words in (50,1)')\n",
    "plt.ylabel('Word ', fontsize=6)\n",
    "plt.xlabel('Count of Words', fontsize=6)\n",
    "plt.show()"
   ]
  },
  {
   "cell_type": "code",
   "execution_count": 70,
   "metadata": {},
   "outputs": [
    {
     "name": "stdout",
     "output_type": "stream",
     "text": [
      "25 unique characters\n"
     ]
    }
   ],
   "source": [
    "vocab = sorted(set(t1))\n",
    "print ('{} unique characters'.format(len(vocab)))"
   ]
  },
  {
   "cell_type": "code",
   "execution_count": 155,
   "metadata": {},
   "outputs": [
    {
     "data": {
      "text/plain": [
       "41"
      ]
     },
     "execution_count": 155,
     "metadata": {},
     "output_type": "execute_result"
    }
   ],
   "source": [
    "len(set(t1.split()))"
   ]
  },
  {
   "cell_type": "markdown",
   "metadata": {},
   "source": [
    "## Generating Script for Word Length = 25 and Temprature = 1"
   ]
  },
  {
   "cell_type": "code",
   "execution_count": 176,
   "metadata": {},
   "outputs": [
    {
     "name": "stdout",
     "output_type": "stream",
     "text": [
      "can asked gaiters a fee of calves tops of the bride the other lithe upon the rent rose while the front he was stated and\n"
     ]
    }
   ],
   "source": [
    "generated_script25 = generate_text(model,tokenizer,seq_len,seed_text=\"Holmes\",num_gen_words=25)\n",
    "print(generated_script25)"
   ]
  },
  {
   "cell_type": "code",
   "execution_count": 178,
   "metadata": {},
   "outputs": [],
   "source": [
    "f25 =  open(\"generated_script25.txt\",\"w\")\n",
    "f25.write(generated_script25)\n",
    "f25.close()"
   ]
  },
  {
   "cell_type": "code",
   "execution_count": 179,
   "metadata": {},
   "outputs": [
    {
     "data": {
      "image/png": "[encoded data removed]",
      "text/plain": [
       "<Figure size 500x200 with 1 Axes>"
      ]
     },
     "metadata": {},
     "output_type": "display_data"
    }
   ],
   "source": [
    "t25 = open(\"generated_script25.txt\", 'rb').read().decode(encoding='utf-8')\n",
    "sentences25 = sent_tokenize(t25)\n",
    "tokenizer25 = RegexpTokenizer('[A-Za-z]\\w+')\n",
    "tokens25=tokenizer25.tokenize(t25)\n",
    "df25 = pd.DataFrame(tokens25)\n",
    "df25 = df25[0].value_counts()\n",
    "from nltk.probability import FreqDist\n",
    "freqdoctor = FreqDist()\n",
    "for words in df25:\n",
    "    freqdoctor[words] += 1\n",
    "df25 = df25[:5,]\n",
    "#freqdoctor\n",
    "plt.figure(figsize=(5,2))\n",
    "sns.barplot(df25.values, df25.index, alpha=0.8)\n",
    "plt.title(' Top Words in (25,1)')\n",
    "plt.ylabel('Word ', fontsize=6)\n",
    "plt.xlabel('Count of Words', fontsize=6)\n",
    "plt.show()"
   ]
  },
  {
   "cell_type": "code",
   "execution_count": 180,
   "metadata": {},
   "outputs": [
    {
     "data": {
      "text/plain": [
       "'can asked gaiters a fee of calves tops of the bride the other lithe upon the rent rose while the front he was stated and'"
      ]
     },
     "execution_count": 180,
     "metadata": {},
     "output_type": "execute_result"
    }
   ],
   "source": [
    "t25"
   ]
  },
  {
   "cell_type": "code",
   "execution_count": 182,
   "metadata": {},
   "outputs": [
    {
     "data": {
      "text/plain": [
       "21"
      ]
     },
     "execution_count": 182,
     "metadata": {},
     "output_type": "execute_result"
    }
   ],
   "source": [
    "len(set(t25.split()))"
   ]
  },
  {
   "cell_type": "markdown",
   "metadata": {},
   "source": [
    "## Generating Script for Word Length = 75 and Temprature = 1"
   ]
  },
  {
   "cell_type": "code",
   "execution_count": 183,
   "metadata": {},
   "outputs": [
    {
     "name": "stdout",
     "output_type": "stream",
     "text": [
      "holmes there was the name of the private indexing i could see that the reason might bring this with lord still simon but soon before this about ’s dress is provided out on winchester i do n’t think that i am myself ” he stepped once to the room and with the paper and brown the latter paragraph it was a quiet little committed his black white face was indeed ran up the seen and\n"
     ]
    }
   ],
   "source": [
    "generated_script75 = generate_text(model,tokenizer,seq_len,seed_text=\"Sherlock\",num_gen_words=75)\n",
    "print(generated_script75)"
   ]
  },
  {
   "cell_type": "code",
   "execution_count": 184,
   "metadata": {},
   "outputs": [],
   "source": [
    "f75 =  open(\"generated_script75.txt\",\"w\")\n",
    "f75.write(generated_script75)\n",
    "f75.close()"
   ]
  },
  {
   "cell_type": "code",
   "execution_count": 185,
   "metadata": {},
   "outputs": [
    {
     "data": {
      "image/png": "[encoded data removed]",
      "text/plain": [
       "<Figure size 500x200 with 1 Axes>"
      ]
     },
     "metadata": {},
     "output_type": "display_data"
    }
   ],
   "source": [
    "t75 = open(\"generated_script75.txt\", 'rb').read().decode(encoding='utf-8')\n",
    "sentences75 = sent_tokenize(t75)\n",
    "tokenizer75 = RegexpTokenizer('[A-Za-z]\\w+')\n",
    "tokens75=tokenizer75.tokenize(t75)\n",
    "df75 = pd.DataFrame(tokens75)\n",
    "df75 = df75[0].value_counts()\n",
    "from nltk.probability import FreqDist\n",
    "freqdoctor = FreqDist()\n",
    "for words in df75:\n",
    "    freqdoctor[words] += 1\n",
    "df75 = df75[:5,]\n",
    "#freqdoctor\n",
    "plt.figure(figsize=(5,2))\n",
    "sns.barplot(df75.values, df75.index, alpha=0.8)\n",
    "plt.title(' Top Words in (75,1)')\n",
    "plt.ylabel('Word ', fontsize=6)\n",
    "plt.xlabel('Count of Words', fontsize=6)\n",
    "plt.show()"
   ]
  },
  {
   "cell_type": "code",
   "execution_count": 186,
   "metadata": {},
   "outputs": [
    {
     "name": "stdout",
     "output_type": "stream",
     "text": [
      "27 unique characters\n"
     ]
    }
   ],
   "source": [
    "vocab = sorted(set(t75))\n",
    "print ('{} unique characters'.format(len(vocab)))"
   ]
  },
  {
   "cell_type": "code",
   "execution_count": 187,
   "metadata": {},
   "outputs": [
    {
     "data": {
      "text/plain": [
       "'holmes there was the name of the private indexing i could see that the reason might bring this with lord still simon but soon before this about ’s dress is provided out on winchester i do n’t think that i am myself ” he stepped once to the room and with the paper and brown the latter paragraph it was a quiet little committed his black white face was indeed ran up the seen and'"
      ]
     },
     "execution_count": 187,
     "metadata": {},
     "output_type": "execute_result"
    }
   ],
   "source": [
    "t75"
   ]
  },
  {
   "cell_type": "code",
   "execution_count": 188,
   "metadata": {},
   "outputs": [
    {
     "data": {
      "text/plain": [
       "60"
      ]
     },
     "execution_count": 188,
     "metadata": {},
     "output_type": "execute_result"
    }
   ],
   "source": [
    "len(set(t75.split()))"
   ]
  },
  {
   "cell_type": "markdown",
   "metadata": {},
   "source": [
    "## Generating Script for Word Length = 100 and Temprature = 1"
   ]
  },
  {
   "cell_type": "code",
   "execution_count": null,
   "metadata": {},
   "outputs": [],
   "source": []
  },
  {
   "cell_type": "code",
   "execution_count": 189,
   "metadata": {},
   "outputs": [
    {
     "name": "stdout",
     "output_type": "stream",
     "text": [
      "can protected out to encompass again on which walks history from thought especially public ’s own country may have explained that the second that might be seated to the easily of the house you now i may add the became of the country but now i shall order that you will away guess what he is rest else i went to the became man by hunter ’s midst us and perhaps i was too forgotten the overtook of laws and long he was hardly before myself that he was seized and to overwhelmed through it was he as remarkable as\n"
     ]
    }
   ],
   "source": [
    "generated_script100 = generate_text(model,tokenizer,seq_len,seed_text=\"crime\",num_gen_words=100)\n",
    "print(generated_script100)"
   ]
  },
  {
   "cell_type": "code",
   "execution_count": 190,
   "metadata": {},
   "outputs": [],
   "source": [
    "f100 =  open(\"generated_script100.txt\",\"w\")\n",
    "f100.write(generated_script100)\n",
    "f100.close()"
   ]
  },
  {
   "cell_type": "code",
   "execution_count": 191,
   "metadata": {},
   "outputs": [
    {
     "data": {
      "image/png": "[encoded data removed]",
      "text/plain": [
       "<Figure size 500x200 with 1 Axes>"
      ]
     },
     "metadata": {},
     "output_type": "display_data"
    }
   ],
   "source": [
    "t100 = open(\"generated_script100.txt\", 'rb').read().decode(encoding='utf-8')\n",
    "sentences100 = sent_tokenize(t100)\n",
    "tokenizer100 = RegexpTokenizer('[A-Za-z]\\w+')\n",
    "tokens100=tokenizer100.tokenize(t100)\n",
    "df100 = pd.DataFrame(tokens100)\n",
    "df100 = df100[0].value_counts()\n",
    "from nltk.probability import FreqDist\n",
    "freqdoctor = FreqDist()\n",
    "for words in df100:\n",
    "    freqdoctor[words] += 1\n",
    "df100 = df100[:5,]\n",
    "#freqdoctor\n",
    "plt.figure(figsize=(5,2))\n",
    "sns.barplot(df100.values, df100.index, alpha=0.8)\n",
    "plt.title(' Top Words in (100,1)')\n",
    "plt.ylabel('Word ', fontsize=6)\n",
    "plt.xlabel('Count of Words', fontsize=6)\n",
    "plt.show()"
   ]
  },
  {
   "cell_type": "code",
   "execution_count": 192,
   "metadata": {},
   "outputs": [
    {
     "name": "stdout",
     "output_type": "stream",
     "text": [
      "27 unique characters\n"
     ]
    }
   ],
   "source": [
    "vocab = sorted(set(t75))\n",
    "print ('{} unique characters'.format(len(vocab)))"
   ]
  },
  {
   "cell_type": "code",
   "execution_count": 193,
   "metadata": {},
   "outputs": [
    {
     "data": {
      "text/plain": [
       "'can protected out to encompass again on which walks history from thought especially public ’s own country may have explained that the second that might be seated to the easily of the house you now i may add the became of the country but now i shall order that you will away guess what he is rest else i went to the became man by hunter ’s midst us and perhaps i was too forgotten the overtook of laws and long he was hardly before myself that he was seized and to overwhelmed through it was he as remarkable as'"
      ]
     },
     "execution_count": 193,
     "metadata": {},
     "output_type": "execute_result"
    }
   ],
   "source": [
    "t100"
   ]
  },
  {
   "cell_type": "code",
   "execution_count": 194,
   "metadata": {},
   "outputs": [
    {
     "data": {
      "text/plain": [
       "68"
      ]
     },
     "execution_count": 194,
     "metadata": {},
     "output_type": "execute_result"
    }
   ],
   "source": [
    "len(set(t100.split()))"
   ]
  },
  {
   "cell_type": "markdown",
   "metadata": {},
   "source": [
    "## Generating Script for Word Length = 25 and Temprature = .1"
   ]
  },
  {
   "cell_type": "code",
   "execution_count": 195,
   "metadata": {},
   "outputs": [
    {
     "name": "stdout",
     "output_type": "stream",
     "text": [
      "and reported has been complete shrugged through the same corridor room and there is no wonder that ha that is a line of a occur\n"
     ]
    }
   ],
   "source": [
    "generated_script25_pone = generate_text(model,tokenizer,seq_len,seed_text=\"Scotland yard\",num_gen_words=25,temperature=.1)\n",
    "print(generated_script25_pone)"
   ]
  },
  {
   "cell_type": "code",
   "execution_count": 196,
   "metadata": {},
   "outputs": [],
   "source": [
    "f25_pone =  open(\"generated_script25_pone.txt\",\"w\")\n",
    "f25_pone.write(generated_script25_pone)\n",
    "f25_pone.close()"
   ]
  },
  {
   "cell_type": "code",
   "execution_count": 197,
   "metadata": {},
   "outputs": [
    {
     "data": {
      "image/png": "[encoded data removed]",
      "text/plain": [
       "<Figure size 500x200 with 1 Axes>"
      ]
     },
     "metadata": {},
     "output_type": "display_data"
    }
   ],
   "source": [
    "t25_pone = open(\"generated_script25_pone.txt\", 'rb').read().decode(encoding='utf-8')\n",
    "sentences25_pone = sent_tokenize(t25_pone)\n",
    "tokenizer25_pone = RegexpTokenizer('[A-Za-z]\\w+')\n",
    "tokens25_pone=tokenizer25_pone.tokenize(t25_pone)\n",
    "df25_pone = pd.DataFrame(tokens25_pone)\n",
    "df25_pone = df25_pone[0].value_counts()\n",
    "from nltk.probability import FreqDist\n",
    "freqdoctor = FreqDist()\n",
    "for words in df25_pone:\n",
    "    freqdoctor[words] += 1\n",
    "df25_pone = df25_pone[:5,]\n",
    "#freqdoctor\n",
    "plt.figure(figsize=(5,2))\n",
    "sns.barplot(df25_pone.values, df25_pone.index, alpha=0.8)\n",
    "plt.title(' Top Words in (25,.1)')\n",
    "plt.ylabel('Word ', fontsize=6)\n",
    "plt.xlabel('Count of Words', fontsize=6)\n",
    "plt.show()"
   ]
  },
  {
   "cell_type": "code",
   "execution_count": 198,
   "metadata": {},
   "outputs": [
    {
     "data": {
      "text/plain": [
       "21"
      ]
     },
     "execution_count": 198,
     "metadata": {},
     "output_type": "execute_result"
    }
   ],
   "source": [
    "len(set(t25_pone.split()))"
   ]
  },
  {
   "cell_type": "markdown",
   "metadata": {},
   "source": [
    "## Generating Script for Word Length = 50 and Temprature = .1"
   ]
  },
  {
   "cell_type": "code",
   "execution_count": 199,
   "metadata": {},
   "outputs": [
    {
     "name": "stdout",
     "output_type": "stream",
     "text": [
      "each when we followed the back from some mark the openly preceded in spite of the slight man in the man work and the heading gave the north taken and dealings respectable 4 and of an attacked of the drug out of the help and with a small public face\n"
     ]
    }
   ],
   "source": [
    "generated_script50_pone = generate_text(model,tokenizer,seq_len,seed_text=\"Watson\",num_gen_words=50,temperature=.1)\n",
    "print(generated_script50_pone)"
   ]
  },
  {
   "cell_type": "code",
   "execution_count": 200,
   "metadata": {},
   "outputs": [],
   "source": [
    "f50_pone =  open(\"generated_script50_pone.txt\",\"w\")\n",
    "f50_pone.write(generated_script50_pone)\n",
    "f50_pone.close()"
   ]
  },
  {
   "cell_type": "code",
   "execution_count": 201,
   "metadata": {},
   "outputs": [
    {
     "data": {
      "image/png": "[encoded data removed]",
      "text/plain": [
       "<Figure size 500x200 with 1 Axes>"
      ]
     },
     "metadata": {},
     "output_type": "display_data"
    }
   ],
   "source": [
    "t50_pone = open(\"generated_script50_pone.txt\", 'rb').read().decode(encoding='utf-8')\n",
    "sentences50_pone = sent_tokenize(t50_pone)\n",
    "tokenizer50_pone = RegexpTokenizer('[A-Za-z]\\w+')\n",
    "tokens50_pone=tokenizer50_pone.tokenize(t50_pone)\n",
    "df50_pone = pd.DataFrame(tokens50_pone)\n",
    "df50_pone = df50_pone[0].value_counts()\n",
    "from nltk.probability import FreqDist\n",
    "freqdoctor = FreqDist()\n",
    "for words in df50_pone:\n",
    "    freqdoctor[words] += 1\n",
    "df50_pone = df50_pone[:5,]\n",
    "#freqdoctor\n",
    "plt.figure(figsize=(5,2))\n",
    "sns.barplot(df50_pone.values, df50_pone.index, alpha=0.8)\n",
    "plt.title(' Top Words in (50,.1)')\n",
    "plt.ylabel('Word ', fontsize=6)\n",
    "plt.xlabel('Count of Words', fontsize=6)\n",
    "plt.show()"
   ]
  },
  {
   "cell_type": "code",
   "execution_count": 90,
   "metadata": {},
   "outputs": [
    {
     "name": "stdout",
     "output_type": "stream",
     "text": [
      "24 unique characters\n"
     ]
    }
   ],
   "source": [
    "vocab = sorted(set(t50_pone))\n",
    "print ('{} unique characters'.format(len(vocab)))"
   ]
  },
  {
   "cell_type": "code",
   "execution_count": 202,
   "metadata": {},
   "outputs": [
    {
     "data": {
      "text/plain": [
       "35"
      ]
     },
     "execution_count": 202,
     "metadata": {},
     "output_type": "execute_result"
    }
   ],
   "source": [
    "len(set(t50_pone.split()))"
   ]
  },
  {
   "cell_type": "markdown",
   "metadata": {},
   "source": [
    "## Generating Script for Word Length = 75 and Temprature = .1"
   ]
  },
  {
   "cell_type": "code",
   "execution_count": 203,
   "metadata": {},
   "outputs": [
    {
     "name": "stdout",
     "output_type": "stream",
     "text": [
      "and stone and such an hard that our foundation were eyes to replace the tattered grass and donations not and is a little little landau for included a considerable bad and may have been seeds about the subject as far as you could copy the unconscious think that there is where you earn to be all mccarthy cut they ’ opposing in complete sent came to their shown ” “ yes ” “ i say\n"
     ]
    }
   ],
   "source": [
    "generated_script75_pone = generate_text(model,tokenizer,seq_len,seed_text=\"good fortune\",num_gen_words=75,temperature=.1)\n",
    "print(generated_script75_pone)"
   ]
  },
  {
   "cell_type": "code",
   "execution_count": 204,
   "metadata": {},
   "outputs": [],
   "source": [
    "f75_pone =  open(\"generated_script75_pone.txt\",\"w\")\n",
    "f75_pone.write(generated_script75_pone)\n",
    "f75_pone.close()"
   ]
  },
  {
   "cell_type": "code",
   "execution_count": 205,
   "metadata": {},
   "outputs": [
    {
     "data": {
      "image/png": "[encoded data removed]",
      "text/plain": [
       "<Figure size 500x200 with 1 Axes>"
      ]
     },
     "metadata": {},
     "output_type": "display_data"
    }
   ],
   "source": [
    "t75_pone = open(\"generated_script75_pone.txt\", 'rb').read().decode(encoding='utf-8')\n",
    "sentences75_pone = sent_tokenize(t75_pone)\n",
    "tokenizer75_pone = RegexpTokenizer('[A-Za-z]\\w+')\n",
    "tokens75_pone=tokenizer75_pone.tokenize(t75_pone)\n",
    "df75_pone = pd.DataFrame(tokens75_pone)\n",
    "df75_pone = df75_pone[0].value_counts()\n",
    "from nltk.probability import FreqDist\n",
    "freqdoctor = FreqDist()\n",
    "for words in df75_pone:\n",
    "    freqdoctor[words] += 1\n",
    "df75_pone = df75_pone[:5,]\n",
    "#freqdoctor\n",
    "plt.figure(figsize=(5,2))\n",
    "sns.barplot(df75_pone.values, df75_pone.index, alpha=0.8)\n",
    "plt.title(' Top Words in (75,.1)')\n",
    "plt.ylabel('Word ', fontsize=6)\n",
    "plt.xlabel('Count of Words', fontsize=6)\n",
    "plt.show()"
   ]
  },
  {
   "cell_type": "code",
   "execution_count": 94,
   "metadata": {},
   "outputs": [
    {
     "name": "stdout",
     "output_type": "stream",
     "text": [
      "27 unique characters\n"
     ]
    }
   ],
   "source": [
    "vocab = sorted(set(t75_pone))\n",
    "print ('{} unique characters'.format(len(vocab)))"
   ]
  },
  {
   "cell_type": "code",
   "execution_count": 206,
   "metadata": {},
   "outputs": [
    {
     "data": {
      "text/plain": [
       "59"
      ]
     },
     "execution_count": 206,
     "metadata": {},
     "output_type": "execute_result"
    }
   ],
   "source": [
    "len(set(t75_pone.split()))"
   ]
  },
  {
   "cell_type": "markdown",
   "metadata": {},
   "source": [
    "##### Generating Script for Word Length = 100 and Temprature = .1"
   ]
  },
  {
   "cell_type": "code",
   "execution_count": 207,
   "metadata": {},
   "outputs": [
    {
     "name": "stdout",
     "output_type": "stream",
     "text": [
      "together each project coat the medium a few aldersgate of faded laurel bushes grew important outside the sky and west matters beside me like a swarm of elastic every sky and the idea of the scrawled the man was cut together and there a woman part of his whole special story nothing never upon the majesty ” “ it is a confession ” groaned holmes “ yes george was my finally way to our sound written the point a man who was waiting from the afforded beneath and carefully between to the shadow of the hard and left the ambition\n"
     ]
    }
   ],
   "source": [
    "generated_script100_pone = generate_text(model,tokenizer,seq_len,seed_text=\"women\",num_gen_words=100,temperature=.1)\n",
    "print(generated_script100_pone)"
   ]
  },
  {
   "cell_type": "code",
   "execution_count": 208,
   "metadata": {},
   "outputs": [],
   "source": [
    "f100_pone =  open(\"generated_script100_pone.txt\",\"w\")\n",
    "f100_pone.write(generated_script100_pone)\n",
    "f100_pone.close()"
   ]
  },
  {
   "cell_type": "code",
   "execution_count": 209,
   "metadata": {},
   "outputs": [
    {
     "data": {
      "image/png": "[encoded data removed]",
      "text/plain": [
       "<Figure size 500x200 with 1 Axes>"
      ]
     },
     "metadata": {},
     "output_type": "display_data"
    }
   ],
   "source": [
    "t100_pone = open(\"generated_script100_pone.txt\", 'rb').read().decode(encoding='utf-8')\n",
    "sentences100_pone = sent_tokenize(t100_pone)\n",
    "tokenizer100_pone = RegexpTokenizer('[A-Za-z]\\w+')\n",
    "tokens100_pone=tokenizer100_pone.tokenize(t100_pone)\n",
    "df100_pone = pd.DataFrame(tokens100_pone)\n",
    "df100_pone = df100_pone[0].value_counts()\n",
    "from nltk.probability import FreqDist\n",
    "freqdoctor = FreqDist()\n",
    "for words in df100_pone:\n",
    "    freqdoctor[words] += 1\n",
    "df100_pone = df100_pone[:5,]\n",
    "#freqdoctor\n",
    "plt.figure(figsize=(5,2))\n",
    "sns.barplot(df100_pone.values, df100_pone.index, alpha=0.8)\n",
    "plt.title('Top Words in (100,.1)')\n",
    "plt.ylabel('Word ', fontsize=6)\n",
    "plt.xlabel('Count of Words', fontsize=6)\n",
    "plt.show()"
   ]
  },
  {
   "cell_type": "code",
   "execution_count": 210,
   "metadata": {},
   "outputs": [
    {
     "name": "stdout",
     "output_type": "stream",
     "text": [
      "26 unique characters\n"
     ]
    }
   ],
   "source": [
    "vocab = sorted(set(t100_pone))\n",
    "print ('{} unique characters'.format(len(vocab)))"
   ]
  },
  {
   "cell_type": "code",
   "execution_count": 211,
   "metadata": {},
   "outputs": [
    {
     "data": {
      "text/plain": [
       "70"
      ]
     },
     "execution_count": 211,
     "metadata": {},
     "output_type": "execute_result"
    }
   ],
   "source": [
    "len(set(t100_pone.split()))"
   ]
  },
  {
   "cell_type": "markdown",
   "metadata": {},
   "source": [
    "## Generating Script for Word Length = 25 and Temprature = 2"
   ]
  },
  {
   "cell_type": "code",
   "execution_count": 212,
   "metadata": {},
   "outputs": [
    {
     "name": "stdout",
     "output_type": "stream",
     "text": [
      "sherlock holmes left fear as i had let me go upon the silence at last nothing them wooden and the files and a very instantly\n"
     ]
    }
   ],
   "source": [
    "generated_script25_2 = generate_text(model,tokenizer,seq_len,seed_text=\"to my surprise\",num_gen_words=25,temperature=2)\n",
    "print(generated_script25_2)"
   ]
  },
  {
   "cell_type": "code",
   "execution_count": 213,
   "metadata": {},
   "outputs": [],
   "source": [
    "f25_2 =  open(\"generated_script25_2.txt\",\"w\")\n",
    "f25_2.write(generated_script25_2)\n",
    "f25_2.close()"
   ]
  },
  {
   "cell_type": "code",
   "execution_count": 214,
   "metadata": {},
   "outputs": [
    {
     "data": {
      "image/png": "[encoded data removed]",
      "text/plain": [
       "<Figure size 500x200 with 1 Axes>"
      ]
     },
     "metadata": {},
     "output_type": "display_data"
    }
   ],
   "source": [
    "t25_2 = open(\"generated_script25_2.txt\", 'rb').read().decode(encoding='utf-8')\n",
    "sentences25_2 = sent_tokenize(t25_2)\n",
    "tokenizer25_2 = RegexpTokenizer('[A-Za-z]\\w+')\n",
    "tokens25_2=tokenizer25_2.tokenize(t25_2)\n",
    "df25_2 = pd.DataFrame(tokens25_2)\n",
    "df25_2 = df25_2[0].value_counts()\n",
    "from nltk.probability import FreqDist\n",
    "freqdoctor = FreqDist()\n",
    "for words in df25_2:\n",
    "    freqdoctor[words] += 1\n",
    "df25_2 = df25_2[:5,]\n",
    "#freqdoctor\n",
    "plt.figure(figsize=(5,2))\n",
    "sns.barplot(df25_2.values, df25_2.index, alpha=0.8)\n",
    "plt.title('Top Words in (25,2)')\n",
    "plt.ylabel('Word ', fontsize=6)\n",
    "plt.xlabel('Count of Words', fontsize=6)\n",
    "plt.show()"
   ]
  },
  {
   "cell_type": "code",
   "execution_count": 102,
   "metadata": {},
   "outputs": [
    {
     "name": "stdout",
     "output_type": "stream",
     "text": [
      "22 unique characters\n"
     ]
    }
   ],
   "source": [
    "vocab = sorted(set(t25_2))\n",
    "print ('{} unique characters'.format(len(vocab)))"
   ]
  },
  {
   "cell_type": "code",
   "execution_count": 215,
   "metadata": {},
   "outputs": [
    {
     "data": {
      "text/plain": [
       "23"
      ]
     },
     "execution_count": 215,
     "metadata": {},
     "output_type": "execute_result"
    }
   ],
   "source": [
    "len(set(t25_2.split()))"
   ]
  },
  {
   "cell_type": "markdown",
   "metadata": {},
   "source": [
    "## Generating Script for Word Length = 50 and Temprature = 2"
   ]
  },
  {
   "cell_type": "code",
   "execution_count": 216,
   "metadata": {},
   "outputs": [
    {
     "name": "stdout",
     "output_type": "stream",
     "text": [
      "robberies three of a shriek in disappearing acid with the inspector tragedy of the spellbound sun were inches of hercules by the manager of those gaiters was of the same residence the light men and the help like being waistcoat yet in the aperture his is was as his sleeping\n"
     ]
    }
   ],
   "source": [
    "generated_script50_2 = generate_text(model,tokenizer,seq_len,seed_text=\"laugh\",num_gen_words=50,temperature=2)\n",
    "print(generated_script50_2)"
   ]
  },
  {
   "cell_type": "code",
   "execution_count": 217,
   "metadata": {},
   "outputs": [],
   "source": [
    "f50_2 =  open(\"generated_script50_2.txt\",\"w\")\n",
    "f50_2.write(generated_script50_2)\n",
    "f50_2.close()"
   ]
  },
  {
   "cell_type": "code",
   "execution_count": 218,
   "metadata": {},
   "outputs": [
    {
     "data": {
      "image/png": "[encoded data removed]",
      "text/plain": [
       "<Figure size 500x200 with 1 Axes>"
      ]
     },
     "metadata": {},
     "output_type": "display_data"
    }
   ],
   "source": [
    "t50_2 = open(\"generated_script50_2.txt\", 'rb').read().decode(encoding='utf-8')\n",
    "sentences50_2 = sent_tokenize(t50_2)\n",
    "tokenizer50_2 = RegexpTokenizer('[A-Za-z]\\w+')\n",
    "tokens50_2=tokenizer50_2.tokenize(t50_2)\n",
    "df50_2 = pd.DataFrame(tokens50_2)\n",
    "df50_2 = df50_2[0].value_counts()\n",
    "from nltk.probability import FreqDist\n",
    "freqdoctor = FreqDist()\n",
    "for words in df50_2:\n",
    "    freqdoctor[words] += 1\n",
    "df50_2 = df50_2[:5,]\n",
    "#freqdoctor\n",
    "plt.figure(figsize=(5,2))\n",
    "sns.barplot(df50_2.values, df50_2.index, alpha=0.8)\n",
    "plt.title('Top Words in (50,2)')\n",
    "plt.ylabel('Word ', fontsize=6)\n",
    "plt.xlabel('Count of Words', fontsize=6)\n",
    "plt.show()"
   ]
  },
  {
   "cell_type": "code",
   "execution_count": 106,
   "metadata": {},
   "outputs": [
    {
     "name": "stdout",
     "output_type": "stream",
     "text": [
      "22 unique characters\n"
     ]
    }
   ],
   "source": [
    "vocab = sorted(set(t50_2))\n",
    "print ('{} unique characters'.format(len(vocab)))"
   ]
  },
  {
   "cell_type": "code",
   "execution_count": 220,
   "metadata": {},
   "outputs": [
    {
     "data": {
      "text/plain": [
       "37"
      ]
     },
     "execution_count": 220,
     "metadata": {},
     "output_type": "execute_result"
    }
   ],
   "source": [
    "len(set(t50_2.split()))"
   ]
  },
  {
   "cell_type": "markdown",
   "metadata": {},
   "source": [
    "### Generating Script for Word Length = 75 and Temprature = 2"
   ]
  },
  {
   "cell_type": "code",
   "execution_count": 221,
   "metadata": {},
   "outputs": [
    {
     "name": "stdout",
     "output_type": "stream",
     "text": [
      "attention there was a little brute absorbing large clouds gradually up and made a glass of brandy and an efforts of the shave it was even in a half black cigars made out of the stream of these bridge from examining where the blue carbuncle long the copying of the encyclopædia must be much whereabouts on which their should be eyes to discover much so as far as it were quite weary to any other\n"
     ]
    }
   ],
   "source": [
    "generated_script75_2 = generate_text(model,tokenizer,seq_len,seed_text=\"Watson my friend\",num_gen_words=75,temperature=2)\n",
    "print(generated_script75_2)"
   ]
  },
  {
   "cell_type": "code",
   "execution_count": 222,
   "metadata": {},
   "outputs": [],
   "source": [
    "f75_2 =  open(\"generated_script75_2.txt\",\"w\")\n",
    "f75_2.write(generated_script75_2)\n",
    "f75_2.close()"
   ]
  },
  {
   "cell_type": "code",
   "execution_count": 223,
   "metadata": {},
   "outputs": [
    {
     "data": {
      "image/png": "[encoded data removed]",
      "text/plain": [
       "<Figure size 500x200 with 1 Axes>"
      ]
     },
     "metadata": {},
     "output_type": "display_data"
    }
   ],
   "source": [
    "t75_2 = open(\"generated_script75_2.txt\", 'rb').read().decode(encoding='utf-8')\n",
    "sentences75_2 = sent_tokenize(t75_2)\n",
    "tokenizer75_2 = RegexpTokenizer('[A-Za-z]\\w+')\n",
    "tokens75_2=tokenizer75_2.tokenize(t75_2)\n",
    "df75_2 = pd.DataFrame(tokens75_2)\n",
    "df75_2 = df75_2[0].value_counts()\n",
    "from nltk.probability import FreqDist\n",
    "freqdoctor = FreqDist()\n",
    "for words in df75_2:\n",
    "    freqdoctor[words] += 1\n",
    "df75_2 = df75_2[:5,]\n",
    "#freqdoctor\n",
    "plt.figure(figsize=(5,2))\n",
    "sns.barplot(df75_2.values, df75_2.index, alpha=0.8)\n",
    "plt.title('Top Words in (75,2)')\n",
    "plt.ylabel('Word ', fontsize=6)\n",
    "plt.xlabel('Count of Words', fontsize=6)\n",
    "plt.show()"
   ]
  },
  {
   "cell_type": "code",
   "execution_count": 110,
   "metadata": {},
   "outputs": [
    {
     "name": "stdout",
     "output_type": "stream",
     "text": [
      "26 unique characters\n"
     ]
    }
   ],
   "source": [
    "vocab = sorted(set(t75_2))\n",
    "print ('{} unique characters'.format(len(vocab)))"
   ]
  },
  {
   "cell_type": "code",
   "execution_count": 224,
   "metadata": {},
   "outputs": [
    {
     "data": {
      "text/plain": [
       "57"
      ]
     },
     "execution_count": 224,
     "metadata": {},
     "output_type": "execute_result"
    }
   ],
   "source": [
    "len(set(t75_2.split()))"
   ]
  },
  {
   "cell_type": "markdown",
   "metadata": {},
   "source": [
    "## Generating Script for Word Length = 100 and Temprature = 2"
   ]
  },
  {
   "cell_type": "code",
   "execution_count": 225,
   "metadata": {},
   "outputs": [],
   "source": [
    "generated_script100_2 = generate_text(model,tokenizer,seq_len,seed_text=\"goverment\",num_gen_words=100,temperature=2)\n",
    "#print(generated_script100_2)"
   ]
  },
  {
   "cell_type": "code",
   "execution_count": 226,
   "metadata": {},
   "outputs": [],
   "source": [
    "f100_2 =  open(\"generated_script100_2.txt\",\"w\")\n",
    "f100_2.write(generated_script100_2)\n",
    "f100_2.close()"
   ]
  },
  {
   "cell_type": "code",
   "execution_count": 227,
   "metadata": {},
   "outputs": [
    {
     "data": {
      "image/png": "[encoded data removed]",
      "text/plain": [
       "<Figure size 500x200 with 1 Axes>"
      ]
     },
     "metadata": {},
     "output_type": "display_data"
    }
   ],
   "source": [
    "t100_2 = open(\"generated_script100_2.txt\", 'rb').read().decode(encoding='utf-8')\n",
    "sentences100_2 = sent_tokenize(t100_2)\n",
    "tokenizer100_2 = RegexpTokenizer('[A-Za-z]\\w+')\n",
    "tokens100_2=tokenizer100_2.tokenize(t100_2)\n",
    "df100_2 = pd.DataFrame(tokens100_2)\n",
    "df100_2 = df100_2[0].value_counts()\n",
    "from nltk.probability import FreqDist\n",
    "freqdoctor = FreqDist()\n",
    "for words in df100_2:\n",
    "    freqdoctor[words] += 1\n",
    "df100_2 = df100_2[:5,]\n",
    "#freqdoctor\n",
    "plt.figure(figsize=(5,2))\n",
    "sns.barplot(df100_2.values, df100_2.index, alpha=0.8)\n",
    "plt.title('Top Words in (100,2)')\n",
    "plt.ylabel('Word ', fontsize=6)\n",
    "plt.xlabel('Count of Words', fontsize=6)\n",
    "plt.show()"
   ]
  },
  {
   "cell_type": "code",
   "execution_count": 114,
   "metadata": {},
   "outputs": [
    {
     "name": "stdout",
     "output_type": "stream",
     "text": [
      "26 unique characters\n"
     ]
    }
   ],
   "source": [
    "vocab = sorted(set(t100_2))\n",
    "print ('{} unique characters'.format(len(vocab)))"
   ]
  },
  {
   "cell_type": "code",
   "execution_count": 228,
   "metadata": {},
   "outputs": [
    {
     "data": {
      "text/plain": [
       "28"
      ]
     },
     "execution_count": 228,
     "metadata": {},
     "output_type": "execute_result"
    }
   ],
   "source": [
    "len(set(t100_2.split()))"
   ]
  },
  {
   "cell_type": "markdown",
   "metadata": {},
   "source": [
    "## Generating Script for Word Length = 50 and Temprature = .5"
   ]
  },
  {
   "cell_type": "code",
   "execution_count": 129,
   "metadata": {},
   "outputs": [
    {
     "name": "stdout",
     "output_type": "stream",
     "text": [
      "is used living and violates support in the dead of reading the work seen of which was whine beside the edge of the great house which had been hereditary sense hands across to its crop to explain you through the first hand of ballarat in the fancier faced hat which\n"
     ]
    }
   ],
   "source": [
    "generated_script50p5 = generate_text(model,tokenizer,seq_len,seed_text=\"what\",num_gen_words=50,temperature=.5)\n",
    "print(generated_script50p5)"
   ]
  },
  {
   "cell_type": "code",
   "execution_count": 130,
   "metadata": {},
   "outputs": [],
   "source": [
    "f50p5 =  open(\"generated_script50p5.txt\",\"w\")\n",
    "f50p5.write(generated_script50p5)\n",
    "f50p5.close()"
   ]
  },
  {
   "cell_type": "markdown",
   "metadata": {},
   "source": [
    "## Generating Script for Word Length = 50 and Temprature = 1.5"
   ]
  },
  {
   "cell_type": "code",
   "execution_count": 134,
   "metadata": {},
   "outputs": [],
   "source": [
    "generated_script50_1p5 = generate_text(model,tokenizer,seq_len,seed_text=\"beleive\",num_gen_words=50,temperature=1.5)\n",
    "#print(generated_script50_1p5)"
   ]
  },
  {
   "cell_type": "code",
   "execution_count": 135,
   "metadata": {},
   "outputs": [],
   "source": [
    "f50_1p5 =  open(\"generated_script50_1p5.txt\",\"w\")\n",
    "f50_1p5.write(generated_script50_1p5)\n",
    "f50_1p5.close()"
   ]
  },
  {
   "cell_type": "markdown",
   "metadata": {},
   "source": [
    "## Generating Script for Word Length = 50 and Temprature = 2.5"
   ]
  },
  {
   "cell_type": "code",
   "execution_count": 137,
   "metadata": {},
   "outputs": [
    {
     "name": "stdout",
     "output_type": "stream",
     "text": [
      "behind the white curling edge which are thrown at a manner bow on peeped on a shoulders face which is over the house a show plain man hair crystallised the smaller observe of the front of his lantern and left the date of the sea indexing i do not touch\n"
     ]
    }
   ],
   "source": [
    "generated_script50_2p5 = generate_text(model,tokenizer,seq_len,seed_text=\"crime scene\",num_gen_words=50,temperature=2.5)\n",
    "print(generated_script50_2p5)"
   ]
  },
  {
   "cell_type": "code",
   "execution_count": 138,
   "metadata": {},
   "outputs": [],
   "source": [
    "f50_2p5 =  open(\"generated_script50_2p5.txt\",\"w\")\n",
    "f50_2p5.write(generated_script50_2p5)\n",
    "f50_2p5.close()"
   ]
  },
  {
   "cell_type": "markdown",
   "metadata": {},
   "source": [
    "## Generating Script for Word Length = 50 and Temprature = 3"
   ]
  },
  {
   "cell_type": "code",
   "execution_count": 140,
   "metadata": {},
   "outputs": [
    {
     "name": "stdout",
     "output_type": "stream",
     "text": [
      "the edge there was breaches crushed and violates support in a poisoning this and door to the same corridor by the odessa vault of water which trafalgar him to come investment we had just a very asked witted carried under the irene world against me by order to prevent the\n"
     ]
    }
   ],
   "source": [
    "generated_script50_3p5 = generate_text(model,tokenizer,seq_len,seed_text=\"dreams\",num_gen_words=50,temperature=3)\n",
    "print(generated_script50_3p5)"
   ]
  },
  {
   "cell_type": "code",
   "execution_count": 141,
   "metadata": {},
   "outputs": [],
   "source": [
    "f50_3p5 =  open(\"generated_script50_3p5.txt\",\"w\")\n",
    "f50_3p5.write(generated_script50_3p5)\n",
    "f50_3p5.close()"
   ]
  },
  {
   "cell_type": "code",
   "execution_count": null,
   "metadata": {},
   "outputs": [],
   "source": []
  }
 ],
 "metadata": {
  "kernelspec": {
   "display_name": "Python 3",
   "language": "python",
   "name": "python3"
  },
  "language_info": {
   "codemirror_mode": {
    "name": "ipython",
    "version": 3
   },
   "file_extension": ".py",
   "mimetype": "text/x-python",
   "name": "python",
   "nbconvert_exporter": "python",
   "pygments_lexer": "ipython3",
   "version": "3.7.4"
  }
 },
 "nbformat": 4,
 "nbformat_minor": 2
}
