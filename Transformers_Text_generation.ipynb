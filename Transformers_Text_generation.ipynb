{
 "cells": [
  {
   "cell_type": "markdown",
   "metadata": {},
   "source": [
    "# Text generation using Transformers and Hugging Face "
   ]
  },
  {
   "cell_type": "markdown",
   "metadata": {},
   "source": [
    "## Credits: https://github.com/raghavbali/text_generation/blob/master/notebooks/text_generation_03.ipynb"
   ]
  },
  {
   "cell_type": "markdown",
   "metadata": {},
   "source": [
    "### Install Transformers"
   ]
  },
  {
   "cell_type": "code",
   "execution_count": 1,
   "metadata": {},
   "outputs": [
    {
     "name": "stdout",
     "output_type": "stream",
     "text": [
      "Requirement already satisfied: transformers in /opt/anaconda3/lib/python3.7/site-packages (4.2.0)\n",
      "Requirement already satisfied: importlib-metadata; python_version < \"3.8\" in /opt/anaconda3/lib/python3.7/site-packages (from transformers) (2.1.1)\n",
      "Requirement already satisfied: numpy in /opt/anaconda3/lib/python3.7/site-packages (from transformers) (1.17.2)\n",
      "Requirement already satisfied: requests in /opt/anaconda3/lib/python3.7/site-packages (from transformers) (2.22.0)\n",
      "Requirement already satisfied: tokenizers==0.9.4 in /opt/anaconda3/lib/python3.7/site-packages (from transformers) (0.9.4)\n",
      "Requirement already satisfied: regex!=2019.12.17 in /opt/anaconda3/lib/python3.7/site-packages (from transformers) (2020.11.13)\n",
      "Requirement already satisfied: sacremoses in /opt/anaconda3/lib/python3.7/site-packages (from transformers) (0.0.43)\n",
      "Requirement already satisfied: tqdm>=4.27 in /opt/anaconda3/lib/python3.7/site-packages (from transformers) (4.46.1)\n",
      "Requirement already satisfied: packaging in /opt/anaconda3/lib/python3.7/site-packages (from transformers) (19.2)\n",
      "Requirement already satisfied: filelock in /opt/anaconda3/lib/python3.7/site-packages (from transformers) (3.0.12)\n",
      "Requirement already satisfied: zipp>=0.5 in /opt/anaconda3/lib/python3.7/site-packages (from importlib-metadata; python_version < \"3.8\"->transformers) (0.6.0)\n",
      "Requirement already satisfied: urllib3!=1.25.0,!=1.25.1,<1.26,>=1.21.1 in /opt/anaconda3/lib/python3.7/site-packages (from requests->transformers) (1.24.2)\n",
      "Requirement already satisfied: idna<2.9,>=2.5 in /opt/anaconda3/lib/python3.7/site-packages (from requests->transformers) (2.8)\n",
      "Requirement already satisfied: certifi>=2017.4.17 in /opt/anaconda3/lib/python3.7/site-packages (from requests->transformers) (2019.9.11)\n",
      "Requirement already satisfied: chardet<3.1.0,>=3.0.2 in /opt/anaconda3/lib/python3.7/site-packages (from requests->transformers) (3.0.4)\n",
      "Requirement already satisfied: six in /opt/anaconda3/lib/python3.7/site-packages (from sacremoses->transformers) (1.12.0)\n",
      "Requirement already satisfied: joblib in /opt/anaconda3/lib/python3.7/site-packages (from sacremoses->transformers) (0.13.2)\n",
      "Requirement already satisfied: click in /opt/anaconda3/lib/python3.7/site-packages (from sacremoses->transformers) (7.0)\n",
      "Requirement already satisfied: pyparsing>=2.0.2 in /opt/anaconda3/lib/python3.7/site-packages (from packaging->transformers) (2.4.2)\n",
      "Requirement already satisfied: more-itertools in /opt/anaconda3/lib/python3.7/site-packages (from zipp>=0.5->importlib-metadata; python_version < \"3.8\"->transformers) (7.2.0)\n",
      "\u001b[33mWARNING: You are using pip version 20.1.1; however, version 21.0.1 is available.\n",
      "You should consider upgrading via the '/opt/anaconda3/bin/python -m pip install --upgrade pip' command.\u001b[0m\n"
     ]
    }
   ],
   "source": [
    "!pip install transformers"
   ]
  },
  {
   "cell_type": "code",
   "execution_count": null,
   "metadata": {},
   "outputs": [],
   "source": []
  },
  {
   "cell_type": "markdown",
   "metadata": {},
   "source": [
    "### Import Libraries"
   ]
  },
  {
   "cell_type": "code",
   "execution_count": 2,
   "metadata": {},
   "outputs": [],
   "source": [
    "import tensorflow as tf\n",
    "import transformers\n",
    "from numpy import random\n",
    "from transformers import (TFGPT2LMHeadModel,\n",
    "                          GPT2Tokenizer,\n",
    "                          GPT2Config)"
   ]
  },
  {
   "cell_type": "code",
   "execution_count": 3,
   "metadata": {},
   "outputs": [
    {
     "name": "stderr",
     "output_type": "stream",
     "text": [
      "[nltk_data] Downloading package punkt to /Users/sumedha/nltk_data...\n",
      "[nltk_data]   Package punkt is already up-to-date!\n",
      "[nltk_data] Downloading package wordnet to /Users/sumedha/nltk_data...\n",
      "[nltk_data]   Package wordnet is already up-to-date!\n"
     ]
    }
   ],
   "source": [
    "## Importing Libraries\n",
    "import nltk\n",
    "nltk.download('punkt')\n",
    "nltk.download('wordnet')\n",
    "from nltk.tokenize import RegexpTokenizer\n",
    "from nltk import sent_tokenize, word_tokenize\n",
    "from nltk.stem.snowball import SnowballStemmer\n",
    "from nltk.stem.wordnet import WordNetLemmatizer\n",
    "from nltk.corpus import stopwords\n",
    "import pandas as pd\n",
    "import numpy as np\n",
    "import re  \n",
    "import spacy\n",
    "#import en_core_web_sm\n",
    "#nlp = en_core_web_sm.load()\n",
    "nlp = spacy.load('en',disable=['parser', 'tagger','ner'])\n",
    "import matplotlib.pyplot as plt; plt.rcdefaults()\n",
    "import numpy as np\n",
    "import matplotlib.pyplot as plt\n",
    "import seaborn as sns\n",
    "from pickle import dump,load\n",
    "import tensorflow as tf\n",
    "from random import randint\n",
    "from pickle import load\n",
    "from keras.models import load_model\n",
    "from keras.preprocessing.sequence import pad_sequences"
   ]
  },
  {
   "cell_type": "markdown",
   "metadata": {},
   "source": [
    "### Model Setup"
   ]
  },
  {
   "cell_type": "code",
   "execution_count": 4,
   "metadata": {},
   "outputs": [
    {
     "name": "stderr",
     "output_type": "stream",
     "text": [
      "All model checkpoint layers were used when initializing TFGPT2LMHeadModel.\n",
      "\n",
      "All the layers of TFGPT2LMHeadModel were initialized from the model checkpoint at gpt2-medium.\n",
      "If your task is similar to the task the model of the checkpoint was trained on, you can already use TFGPT2LMHeadModel for predictions without further training.\n"
     ]
    }
   ],
   "source": [
    "model_name = \"gpt2-medium\"\n",
    "config = GPT2Config.from_pretrained(model_name)\n",
    "tokenizer = GPT2Tokenizer.from_pretrained(model_name)\n",
    "model = TFGPT2LMHeadModel.from_pretrained(model_name, config=config)"
   ]
  },
  {
   "cell_type": "markdown",
   "metadata": {},
   "source": [
    "### Generate Text"
   ]
  },
  {
   "cell_type": "code",
   "execution_count": 5,
   "metadata": {},
   "outputs": [
    {
     "data": {
      "text/plain": [
       "<tf.Tensor: shape=(1, 4), dtype=int32, numpy=array([[   54, 13506,   345,   389]], dtype=int32)>"
      ]
     },
     "execution_count": 5,
     "metadata": {},
     "output_type": "execute_result"
    }
   ],
   "source": [
    "# encode context the generation is conditioned on\n",
    "input_ids = tokenizer.encode('Watson you are', return_tensors='tf')\n",
    "input_ids"
   ]
  },
  {
   "cell_type": "markdown",
   "metadata": {},
   "source": [
    "#### Greedy Decoding"
   ]
  },
  {
   "cell_type": "code",
   "execution_count": 6,
   "metadata": {},
   "outputs": [
    {
     "name": "stderr",
     "output_type": "stream",
     "text": [
      "Setting `pad_token_id` to 50256 (first `eos_token_id`) to generate sequence\n"
     ]
    },
    {
     "name": "stdout",
     "output_type": "stream",
     "text": [
      "Output:\n",
      "--------------------------------------------------------------------------------------------------------------\n",
      "Watson you are a great guy and I hope you are doing well. I am sorry to hear that you are not able\n"
     ]
    }
   ],
   "source": [
    "# generate text until the output length (which includes the context length) reaches 50\n",
    "greedy_output = model.generate(input_ids, max_length=25)\n",
    "\n",
    "print(\"Output:\\n\" + 110 * '-')\n",
    "print(tokenizer.decode(greedy_output[0], skip_special_tokens=True))"
   ]
  },
  {
   "cell_type": "code",
   "execution_count": 7,
   "metadata": {},
   "outputs": [],
   "source": [
    "t1 = \"Watson you are a great guy and I hope you are doing well. I am sorry to hear that you are not able\""
   ]
  },
  {
   "cell_type": "code",
   "execution_count": 8,
   "metadata": {},
   "outputs": [
    {
     "data": {
      "text/plain": [
       "18"
      ]
     },
     "execution_count": 8,
     "metadata": {},
     "output_type": "execute_result"
    }
   ],
   "source": [
    "len(set(t1.split()))"
   ]
  },
  {
   "cell_type": "code",
   "execution_count": 9,
   "metadata": {},
   "outputs": [
    {
     "name": "stdout",
     "output_type": "stream",
     "text": [
      "Watson you are a great guy and I hope you are doing well. I am sorry to hear that you are not able\n"
     ]
    }
   ],
   "source": [
    "print(t1)"
   ]
  },
  {
   "cell_type": "code",
   "execution_count": 10,
   "metadata": {},
   "outputs": [],
   "source": [
    "f25 =  open(\"generated_script25.txt\",\"w\")\n",
    "f25.write(t1)\n",
    "f25.close()"
   ]
  },
  {
   "cell_type": "code",
   "execution_count": 11,
   "metadata": {},
   "outputs": [
    {
     "data": {
      "image/png": "[encoded data removed]",
      "text/plain": [
       "<Figure size 360x144 with 1 Axes>"
      ]
     },
     "metadata": {
      "needs_background": "light"
     },
     "output_type": "display_data"
    }
   ],
   "source": [
    "t25 = open(\"generated_script25.txt\", 'rb').read().decode(encoding='utf-8')\n",
    "sentences25 = sent_tokenize(t25)\n",
    "tokenizer25 = RegexpTokenizer('[A-Za-z]\\w+')\n",
    "tokens25=tokenizer25.tokenize(t25)\n",
    "df25 = pd.DataFrame(tokens25)\n",
    "df25 = df25[0].value_counts()\n",
    "from nltk.probability import FreqDist\n",
    "freqdoctor = FreqDist()\n",
    "for words in df25:\n",
    "    freqdoctor[words] += 1\n",
    "df25 = df25[:5,]\n",
    "#freqdoctor\n",
    "plt.figure(figsize=(5,2))\n",
    "sns.barplot(df25.values, df25.index, alpha=0.8)\n",
    "plt.title(' Top Words for word length = 25 - GPT2')\n",
    "plt.ylabel('Word ', fontsize=6)\n",
    "plt.xlabel('Count of Words', fontsize=6)\n",
    "plt.show()"
   ]
  },
  {
   "cell_type": "code",
   "execution_count": null,
   "metadata": {},
   "outputs": [],
   "source": []
  },
  {
   "cell_type": "code",
   "execution_count": null,
   "metadata": {},
   "outputs": [],
   "source": []
  },
  {
   "cell_type": "code",
   "execution_count": null,
   "metadata": {},
   "outputs": [],
   "source": []
  },
  {
   "cell_type": "code",
   "execution_count": 12,
   "metadata": {},
   "outputs": [
    {
     "name": "stderr",
     "output_type": "stream",
     "text": [
      "Setting `pad_token_id` to 50256 (first `eos_token_id`) to generate sequence\n"
     ]
    },
    {
     "name": "stdout",
     "output_type": "stream",
     "text": [
      "Output:\n",
      "--------------------------------------------------------------------------------------------------------------\n",
      "Watson you are a great guy and I hope you are doing well. I am sorry to hear that you are not able to attend the upcoming event. I hope you will be able to attend the next one. I am sorry to hear that you\n"
     ]
    }
   ],
   "source": [
    "# generate text until the output length (which includes the context length) reaches 50\n",
    "greedy_output = model.generate(input_ids, max_length=50)\n",
    "\n",
    "print(\"Output:\\n\" + 110 * '-')\n",
    "print(tokenizer.decode(greedy_output[0], skip_special_tokens=True))"
   ]
  },
  {
   "cell_type": "code",
   "execution_count": 13,
   "metadata": {},
   "outputs": [],
   "source": [
    "t2 = \"Watson you are a great guy and I hope you are doing well. I am sorry to hear that you are not able to attend the upcoming event. I hope you will be able to attend the next one. I am sorry to hear that you\""
   ]
  },
  {
   "cell_type": "code",
   "execution_count": 14,
   "metadata": {},
   "outputs": [
    {
     "data": {
      "text/plain": [
       "26"
      ]
     },
     "execution_count": 14,
     "metadata": {},
     "output_type": "execute_result"
    }
   ],
   "source": [
    "len(set(t2.split()))"
   ]
  },
  {
   "cell_type": "code",
   "execution_count": 15,
   "metadata": {},
   "outputs": [],
   "source": [
    "f50_pone =  open(\"generated_script50_pone.txt\",\"w\")\n",
    "f50_pone.write(t2)\n",
    "f50_pone.close()"
   ]
  },
  {
   "cell_type": "code",
   "execution_count": 16,
   "metadata": {},
   "outputs": [
    {
     "data": {
      "image/png": "[encoded data removed]",
      "text/plain": [
       "<Figure size 360x144 with 1 Axes>"
      ]
     },
     "metadata": {
      "needs_background": "light"
     },
     "output_type": "display_data"
    }
   ],
   "source": [
    "t50_pone = open(\"generated_script50_pone.txt\", 'rb').read().decode(encoding='utf-8')\n",
    "sentences50_pone = sent_tokenize(t50_pone)\n",
    "tokenizer50_pone = RegexpTokenizer('[A-Za-z]\\w+')\n",
    "tokens50_pone=tokenizer50_pone.tokenize(t50_pone)\n",
    "df50_pone = pd.DataFrame(tokens50_pone)\n",
    "df50_pone = df50_pone[0].value_counts()\n",
    "from nltk.probability import FreqDist\n",
    "freqdoctor = FreqDist()\n",
    "for words in df50_pone:\n",
    "    freqdoctor[words] += 1\n",
    "df50_pone = df50_pone[:5,]\n",
    "#freqdoctor\n",
    "plt.figure(figsize=(5,2))\n",
    "sns.barplot(df50_pone.values, df50_pone.index, alpha=0.8)\n",
    "plt.title('Top Words for word length = 50 - GPT2')\n",
    "plt.ylabel('Word ', fontsize=6)\n",
    "plt.xlabel('Count of Words', fontsize=6)\n",
    "plt.show()"
   ]
  },
  {
   "cell_type": "code",
   "execution_count": 17,
   "metadata": {},
   "outputs": [
    {
     "name": "stderr",
     "output_type": "stream",
     "text": [
      "Setting `pad_token_id` to 50256 (first `eos_token_id`) to generate sequence\n"
     ]
    },
    {
     "name": "stdout",
     "output_type": "stream",
     "text": [
      "Output:\n",
      "--------------------------------------------------------------------------------------------------------------\n",
      "Watson you are a great guy and I hope you are doing well. I am sorry to hear that you are not able to attend the upcoming event. I hope you will be able to attend the next one. I am sorry to hear that you are not able to attend the upcoming event. I hope you will be able to attend the next one.\n",
      "\n",
      "Anonymous 01\n"
     ]
    }
   ],
   "source": [
    "# generate text until the output length (which includes the context length) reaches 50\n",
    "greedy_output = model.generate(input_ids, max_length=75)\n",
    "\n",
    "print(\"Output:\\n\" + 110 * '-')\n",
    "print(tokenizer.decode(greedy_output[0], skip_special_tokens=True))"
   ]
  },
  {
   "cell_type": "code",
   "execution_count": 18,
   "metadata": {},
   "outputs": [],
   "source": [
    "t3 = \"Watson you are a great guy and I hope you are doing well. I am sorry to hear that you are not able to attend the upcoming event. I hope you will be able to attend the next one. I am sorry to hear that you are not able to attend the upcoming event. I hope you will be able to attend the next one.\""
   ]
  },
  {
   "cell_type": "code",
   "execution_count": 19,
   "metadata": {},
   "outputs": [
    {
     "data": {
      "text/plain": [
       "26"
      ]
     },
     "execution_count": 19,
     "metadata": {},
     "output_type": "execute_result"
    }
   ],
   "source": [
    "len(set(t3.split()))"
   ]
  },
  {
   "cell_type": "code",
   "execution_count": 20,
   "metadata": {},
   "outputs": [],
   "source": [
    "f75_pone =  open(\"generated_script75_pone.txt\",\"w\")\n",
    "f75_pone.write(t3)\n",
    "f75_pone.close()"
   ]
  },
  {
   "cell_type": "code",
   "execution_count": 21,
   "metadata": {},
   "outputs": [
    {
     "data": {
      "image/png": "[encoded data removed]",
      "text/plain": [
       "<Figure size 360x144 with 1 Axes>"
      ]
     },
     "metadata": {
      "needs_background": "light"
     },
     "output_type": "display_data"
    }
   ],
   "source": [
    "t75_pone = open(\"generated_script75_pone.txt\", 'rb').read().decode(encoding='utf-8')\n",
    "sentences75_pone = sent_tokenize(t75_pone)\n",
    "tokenizer75_pone = RegexpTokenizer('[A-Za-z]\\w+')\n",
    "tokens75_pone=tokenizer75_pone.tokenize(t75_pone)\n",
    "df75_pone = pd.DataFrame(tokens75_pone)\n",
    "df75_pone = df75_pone[0].value_counts()\n",
    "from nltk.probability import FreqDist\n",
    "freqdoctor = FreqDist()\n",
    "for words in df75_pone:\n",
    "    freqdoctor[words] += 1\n",
    "df75_pone = df75_pone[:5,]\n",
    "#freqdoctor\n",
    "plt.figure(figsize=(5,2))\n",
    "sns.barplot(df75_pone.values, df75_pone.index, alpha=0.8)\n",
    "plt.title('Top Words for word length = 75 - GPT2')\n",
    "plt.ylabel('Word ', fontsize=6)\n",
    "plt.xlabel('Count of Words', fontsize=6)\n",
    "plt.show()"
   ]
  },
  {
   "cell_type": "code",
   "execution_count": null,
   "metadata": {},
   "outputs": [],
   "source": []
  },
  {
   "cell_type": "code",
   "execution_count": null,
   "metadata": {},
   "outputs": [],
   "source": []
  },
  {
   "cell_type": "code",
   "execution_count": null,
   "metadata": {},
   "outputs": [],
   "source": []
  },
  {
   "cell_type": "code",
   "execution_count": 22,
   "metadata": {},
   "outputs": [
    {
     "name": "stderr",
     "output_type": "stream",
     "text": [
      "Setting `pad_token_id` to 50256 (first `eos_token_id`) to generate sequence\n"
     ]
    },
    {
     "name": "stdout",
     "output_type": "stream",
     "text": [
      "Output:\n",
      "--------------------------------------------------------------------------------------------------------------\n",
      "Watson you are a great guy and I hope you are doing well. I am sorry to hear that you are not able to attend the upcoming event. I hope you will be able to attend the next one. I am sorry to hear that you are not able to attend the upcoming event. I hope you will be able to attend the next one.\n",
      "\n",
      "Anonymous 01/28/16 (Wed) 01:29:55 PM No. 96545 >>96545\n",
      "\n",
      "I\n"
     ]
    }
   ],
   "source": [
    "# generate text until the output length (which includes the context length) reaches 50\n",
    "greedy_output = model.generate(input_ids, max_length=100)\n",
    "\n",
    "print(\"Output:\\n\" + 110 * '-')\n",
    "print(tokenizer.decode(greedy_output[0], skip_special_tokens=True))"
   ]
  },
  {
   "cell_type": "code",
   "execution_count": null,
   "metadata": {},
   "outputs": [],
   "source": []
  },
  {
   "cell_type": "code",
   "execution_count": null,
   "metadata": {},
   "outputs": [],
   "source": []
  },
  {
   "cell_type": "code",
   "execution_count": 23,
   "metadata": {},
   "outputs": [],
   "source": [
    "t4 = \"Watson you are in an accident? Pam: Oh yes, and I would tell you, but I'm the only one around who can see me. So you know, it's not an accident, I am at the place where I am, so you know I'm still in an accident. Watson: Are you sure that's what you're saying?Pam:Yes sir Pam Watson: I dont think you are saying all\""
   ]
  },
  {
   "cell_type": "code",
   "execution_count": 24,
   "metadata": {},
   "outputs": [
    {
     "data": {
      "text/plain": [
       "51"
      ]
     },
     "execution_count": 24,
     "metadata": {},
     "output_type": "execute_result"
    }
   ],
   "source": [
    "len(set(t4.split()))"
   ]
  },
  {
   "cell_type": "code",
   "execution_count": 25,
   "metadata": {},
   "outputs": [],
   "source": [
    "f100_pone =  open(\"generated_script100_pone.txt\",\"w\")\n",
    "f100_pone.write(t4)\n",
    "f100_pone.close()"
   ]
  },
  {
   "cell_type": "code",
   "execution_count": 26,
   "metadata": {},
   "outputs": [
    {
     "data": {
      "image/png": "[encoded data removed]",
      "text/plain": [
       "<Figure size 360x144 with 1 Axes>"
      ]
     },
     "metadata": {
      "needs_background": "light"
     },
     "output_type": "display_data"
    }
   ],
   "source": [
    "t100_pone = open(\"generated_script100_pone.txt\", 'rb').read().decode(encoding='utf-8')\n",
    "sentences100_pone = sent_tokenize(t100_pone)\n",
    "tokenizer100_pone = RegexpTokenizer('[A-Za-z]\\w+')\n",
    "tokens100_pone=tokenizer100_pone.tokenize(t100_pone)\n",
    "df100_pone = pd.DataFrame(tokens100_pone)\n",
    "df100_pone = df100_pone[0].value_counts()\n",
    "from nltk.probability import FreqDist\n",
    "freqdoctor = FreqDist()\n",
    "for words in df100_pone:\n",
    "    freqdoctor[words] += 1\n",
    "df100_pone = df100_pone[:5,]\n",
    "#freqdoctor\n",
    "plt.figure(figsize=(5,2))\n",
    "sns.barplot(df100_pone.values, df100_pone.index, alpha=0.8)\n",
    "plt.title('Top Words for word length = 100 - GPT2')\n",
    "plt.ylabel('Word ', fontsize=6)\n",
    "plt.xlabel('Count of Words', fontsize=6)\n",
    "plt.show()"
   ]
  },
  {
   "cell_type": "code",
   "execution_count": null,
   "metadata": {},
   "outputs": [],
   "source": []
  },
  {
   "cell_type": "code",
   "execution_count": 27,
   "metadata": {},
   "outputs": [
    {
     "name": "stderr",
     "output_type": "stream",
     "text": [
      "Setting `pad_token_id` to 50256 (first `eos_token_id`) to generate sequence\n"
     ]
    },
    {
     "name": "stdout",
     "output_type": "stream",
     "text": [
      "0: Watson you are in an accident?\n",
      "\n",
      "Pam: Oh yes, and I would tell you, but I'm the only one around who can see me. So you know, it's not an accident, I am at the place where I am, so you know I'm still in an accident.\" Watson: \"Are you sure that's what you're saying?\"\n",
      "\n",
      "Pam: \"Yes sir.\"\n",
      "\n",
      "Pam Watson: \"I don't think you're saying all\n",
      "--------------------------------------------------------------------------------------------------------------\n",
      "1: Watson you are the greatest football fan ever, what can you say in your defence?\n",
      "\n",
      "\"I could probably give you one reason why I love being a fan of rugby union so much.\n",
      "\n",
      "\"I'm not going to pretend to agree with most of their players, and some players are a bit weird when it comes to the whole thing but they still love their sport so I'm sure this is just a silly way of saying they love football to some degree but I'm going to\n",
      "--------------------------------------------------------------------------------------------------------------\n",
      "2: Watson you are no longer allowed to leave your job but your job does not matter. He tells me that his only aim is to get people to know and respect his intelligence; this is important for a successful company, otherwise he doesn't understand his customers. You are a smart man and I applaud your intelligence, but the rest is a complete waste of the time, energy and resources of the company you once worked for. Your job matters so much but it cannot be your sole focus. If you\n",
      "--------------------------------------------------------------------------------------------------------------\n",
      "3: Watson you are very well. Now you are saying that you would not get away with not getting away with the stuff. Are you really implying that you were in a position where you knew that you were not making it a crime to say \"fuck you\" in public to the police officer? Is that what you are implying?\n",
      "\n",
      "Hmmm. Is that what you are implying? Is that what you are implying? It certainly strikes me as a strong indication of some sort of crime of verbal\n",
      "--------------------------------------------------------------------------------------------------------------\n",
      "4: Watson you are an idiot. You will tell me in another email that you are sorry, but you must accept your punishment without reservation.\"\n",
      "\n",
      "Watson asked why he had to be kicked out and that he would have been kicked out just as easily if he had been a teacher.\n",
      "\n",
      "Watson's lawyer, Robert A. Wollenberg of Biddle & Reath LLP, said there was no proof to support Watson's claims against the university and the school had done nothing wrong.\n",
      "--------------------------------------------------------------------------------------------------------------\n"
     ]
    }
   ],
   "source": [
    "tf.random.set_seed(0)\n",
    "\n",
    "# Use a combination of decoding techniques\n",
    "sample_outputs = model.generate(\n",
    "    input_ids,\n",
    "    do_sample=True, \n",
    "    max_length=100, \n",
    "    top_k=50, \n",
    "    top_p=0.95, \n",
    "    num_return_sequences=5\n",
    ")\n",
    "\n",
    "#print(\"Output:\\n\" + 110 * '-')\n",
    "for i, sample_output in enumerate(sample_outputs):\n",
    "    print(\"{}: {}\".format(i, tokenizer.decode(sample_output, skip_special_tokens=True)))\n",
    "    print(\"-\"*110)"
   ]
  },
  {
   "cell_type": "code",
   "execution_count": 28,
   "metadata": {},
   "outputs": [
    {
     "name": "stderr",
     "output_type": "stream",
     "text": [
      "Setting `pad_token_id` to 50256 (first `eos_token_id`) to generate sequence\n"
     ]
    },
    {
     "name": "stdout",
     "output_type": "stream",
     "text": [
      "Output:\n",
      "--------------------------------------------------------------------------------------------------------------\n",
      "0: Watson you are in an accident?\n",
      "\n",
      "Pam: Oh yes, and I would tell you, but I'm\n",
      "--------------------------------------------------------------------------------------------------------------\n",
      "1: Watson you are the greatest football fan ever, what can you say in your defence?\n",
      "\n",
      "\"I could probably give\n",
      "--------------------------------------------------------------------------------------------------------------\n",
      "2: Watson you are no longer allowed to leave your job but your job does not matter. He tells me that his only aim\n",
      "--------------------------------------------------------------------------------------------------------------\n",
      "3: Watson you are very well. Now you are saying that you would not get away with not getting away with the stuff.\n",
      "--------------------------------------------------------------------------------------------------------------\n",
      "4: Watson you are an idiot. You will tell me in another email that you are sorry, but you must accept your punishment\n",
      "--------------------------------------------------------------------------------------------------------------\n"
     ]
    }
   ],
   "source": [
    "tf.random.set_seed(0)\n",
    "\n",
    "# Use a combination of decoding techniques\n",
    "sample_outputs = model.generate(\n",
    "    input_ids,\n",
    "    do_sample=True, \n",
    "    max_length=25, \n",
    "    top_k=50, \n",
    "    top_p=0.95, \n",
    "    num_return_sequences=5\n",
    ")\n",
    "\n",
    "print(\"Output:\\n\" + 110 * '-')\n",
    "for i, sample_output in enumerate(sample_outputs):\n",
    "    print(\"{}: {}\".format(i, tokenizer.decode(sample_output, skip_special_tokens=True)))\n",
    "    print(\"-\"*110)"
   ]
  },
  {
   "cell_type": "code",
   "execution_count": 29,
   "metadata": {},
   "outputs": [
    {
     "name": "stderr",
     "output_type": "stream",
     "text": [
      "Setting `pad_token_id` to 50256 (first `eos_token_id`) to generate sequence\n"
     ]
    },
    {
     "name": "stdout",
     "output_type": "stream",
     "text": [
      "Output:\n",
      "--------------------------------------------------------------------------------------------------------------\n",
      "0: Watson you are in an accident?\n",
      "\n",
      "Pam: Oh yes, and I would tell you, but I'm the only one around who can see me. So you know, it's not an accident, I am at the place where\n",
      "--------------------------------------------------------------------------------------------------------------\n",
      "1: Watson you are the greatest football fan ever, what can you say in your defence?\n",
      "\n",
      "\"I could probably give you one reason why I love being a fan of rugby union so much.\n",
      "\n",
      "\"I'm not going to pretend to\n",
      "--------------------------------------------------------------------------------------------------------------\n",
      "2: Watson you are no longer allowed to leave your job but your job does not matter. He tells me that his only aim is to get people to know and respect his intelligence; this is important for a successful company, otherwise he doesn't understand his\n",
      "--------------------------------------------------------------------------------------------------------------\n",
      "3: Watson you are very well. Now you are saying that you would not get away with not getting away with the stuff. Are you really implying that you were in a position where you knew that you were not making it a crime to say \"fuck\n",
      "--------------------------------------------------------------------------------------------------------------\n",
      "4: Watson you are an idiot. You will tell me in another email that you are sorry, but you must accept your punishment without reservation.\"\n",
      "\n",
      "Watson asked why he had to be kicked out and that he would have been kicked out just as\n",
      "--------------------------------------------------------------------------------------------------------------\n"
     ]
    }
   ],
   "source": [
    "tf.random.set_seed(0)\n",
    "\n",
    "# Use a combination of decoding techniques\n",
    "sample_outputs = model.generate(\n",
    "    input_ids,\n",
    "    do_sample=True, \n",
    "    max_length=50, \n",
    "    top_k=50, \n",
    "    top_p=0.95, \n",
    "    num_return_sequences=5\n",
    ")\n",
    "\n",
    "print(\"Output:\\n\" + 110 * '-')\n",
    "for i, sample_output in enumerate(sample_outputs):\n",
    "    print(\"{}: {}\".format(i, tokenizer.decode(sample_output, skip_special_tokens=True)))\n",
    "    print(\"-\"*110)"
   ]
  },
  {
   "cell_type": "code",
   "execution_count": 30,
   "metadata": {},
   "outputs": [
    {
     "name": "stderr",
     "output_type": "stream",
     "text": [
      "Setting `pad_token_id` to 50256 (first `eos_token_id`) to generate sequence\n"
     ]
    },
    {
     "name": "stdout",
     "output_type": "stream",
     "text": [
      "Output:\n",
      "--------------------------------------------------------------------------------------------------------------\n",
      "0: Watson you are in an accident?\n",
      "\n",
      "Pam: Oh yes, and I would tell you, but I'm the only one around who can see me. So you know, it's not an accident, I am at the place where I am, so you know I'm still in an accident.\" Watson: \"Are you sure that's what you're saying\n",
      "--------------------------------------------------------------------------------------------------------------\n",
      "1: Watson you are the greatest football fan ever, what can you say in your defence?\n",
      "\n",
      "\"I could probably give you one reason why I love being a fan of rugby union so much.\n",
      "\n",
      "\"I'm not going to pretend to agree with most of their players, and some players are a bit weird when it comes to the whole thing but they still love\n",
      "--------------------------------------------------------------------------------------------------------------\n",
      "2: Watson you are no longer allowed to leave your job but your job does not matter. He tells me that his only aim is to get people to know and respect his intelligence; this is important for a successful company, otherwise he doesn't understand his customers. You are a smart man and I applaud your intelligence, but the rest is a complete waste of the time, energy\n",
      "--------------------------------------------------------------------------------------------------------------\n",
      "3: Watson you are very well. Now you are saying that you would not get away with not getting away with the stuff. Are you really implying that you were in a position where you knew that you were not making it a crime to say \"fuck you\" in public to the police officer? Is that what you are implying?\n",
      "\n",
      "Hmmm. Is that what you\n",
      "--------------------------------------------------------------------------------------------------------------\n",
      "4: Watson you are an idiot. You will tell me in another email that you are sorry, but you must accept your punishment without reservation.\"\n",
      "\n",
      "Watson asked why he had to be kicked out and that he would have been kicked out just as easily if he had been a teacher.\n",
      "\n",
      "Watson's lawyer, Robert A. Wollenberg of Biddle &\n",
      "--------------------------------------------------------------------------------------------------------------\n"
     ]
    }
   ],
   "source": [
    "tf.random.set_seed(0)\n",
    "\n",
    "# Use a combination of decoding techniques\n",
    "sample_outputs = model.generate(\n",
    "    input_ids,\n",
    "    do_sample=True, \n",
    "    max_length=75, \n",
    "    top_k=50, \n",
    "    top_p=0.95, \n",
    "    num_return_sequences=5\n",
    ")\n",
    "\n",
    "print(\"Output:\\n\" + 110 * '-')\n",
    "for i, sample_output in enumerate(sample_outputs):\n",
    "    print(\"{}: {}\".format(i, tokenizer.decode(sample_output, skip_special_tokens=True)))\n",
    "    print(\"-\"*110)"
   ]
  },
  {
   "cell_type": "code",
   "execution_count": 31,
   "metadata": {},
   "outputs": [
    {
     "name": "stderr",
     "output_type": "stream",
     "text": [
      "Setting `pad_token_id` to 50256 (first `eos_token_id`) to generate sequence\n"
     ]
    },
    {
     "name": "stdout",
     "output_type": "stream",
     "text": [
      "Output:\n",
      "--------------------------------------------------------------------------------------------------------------\n",
      "0: Watson you are in an accident?\n",
      "\n",
      "Pam: Oh yes, and I would tell you, but I'm the only one around who can see me. So you know, it's not an accident, I am at the place where I am, so you know I'm still in an accident.\" Watson: \"Are you sure that's what you're saying?\"\n",
      "\n",
      "Pam: \"Yes sir.\"\n",
      "\n",
      "Pam Watson: \"I don't think you're saying all\n",
      "--------------------------------------------------------------------------------------------------------------\n",
      "1: Watson you are the greatest football fan ever, what can you say in your defence?\n",
      "\n",
      "\"I could probably give you one reason why I love being a fan of rugby union so much.\n",
      "\n",
      "\"I'm not going to pretend to agree with most of their players, and some players are a bit weird when it comes to the whole thing but they still love their sport so I'm sure this is just a silly way of saying they love football to some degree but I'm going to\n",
      "--------------------------------------------------------------------------------------------------------------\n",
      "2: Watson you are no longer allowed to leave your job but your job does not matter. He tells me that his only aim is to get people to know and respect his intelligence; this is important for a successful company, otherwise he doesn't understand his customers. You are a smart man and I applaud your intelligence, but the rest is a complete waste of the time, energy and resources of the company you once worked for. Your job matters so much but it cannot be your sole focus. If you\n",
      "--------------------------------------------------------------------------------------------------------------\n",
      "3: Watson you are very well. Now you are saying that you would not get away with not getting away with the stuff. Are you really implying that you were in a position where you knew that you were not making it a crime to say \"fuck you\" in public to the police officer? Is that what you are implying?\n",
      "\n",
      "Hmmm. Is that what you are implying? Is that what you are implying? It certainly strikes me as a strong indication of some sort of crime of verbal\n",
      "--------------------------------------------------------------------------------------------------------------\n",
      "4: Watson you are an idiot. You will tell me in another email that you are sorry, but you must accept your punishment without reservation.\"\n",
      "\n",
      "Watson asked why he had to be kicked out and that he would have been kicked out just as easily if he had been a teacher.\n",
      "\n",
      "Watson's lawyer, Robert A. Wollenberg of Biddle & Reath LLP, said there was no proof to support Watson's claims against the university and the school had done nothing wrong.\n",
      "--------------------------------------------------------------------------------------------------------------\n"
     ]
    }
   ],
   "source": [
    "tf.random.set_seed(0)\n",
    "\n",
    "# Use a combination of decoding techniques\n",
    "sample_outputs = model.generate(\n",
    "    input_ids,\n",
    "    do_sample=True, \n",
    "    max_length=100, \n",
    "    top_k=50, \n",
    "    top_p=0.95, \n",
    "    num_return_sequences=5\n",
    ")\n",
    "\n",
    "print(\"Output:\\n\" + 110 * '-')\n",
    "for i, sample_output in enumerate(sample_outputs):\n",
    "    print(\"{}: {}\".format(i, tokenizer.decode(sample_output, skip_special_tokens=True)))\n",
    "    print(\"-\"*110)"
   ]
  },
  {
   "cell_type": "code",
   "execution_count": null,
   "metadata": {},
   "outputs": [],
   "source": []
  },
  {
   "cell_type": "code",
   "execution_count": null,
   "metadata": {},
   "outputs": [],
   "source": []
  },
  {
   "cell_type": "code",
   "execution_count": null,
   "metadata": {},
   "outputs": [],
   "source": [
    "\\"
   ]
  }
 ],
 "metadata": {
  "kernelspec": {
   "display_name": "Python 3",
   "language": "python",
   "name": "python3"
  },
  "language_info": {
   "codemirror_mode": {
    "name": "ipython",
    "version": 3
   },
   "file_extension": ".py",
   "mimetype": "text/x-python",
   "name": "python",
   "nbconvert_exporter": "python",
   "pygments_lexer": "ipython3",
   "version": "3.7.4"
  }
 },
 "nbformat": 4,
 "nbformat_minor": 4
}
