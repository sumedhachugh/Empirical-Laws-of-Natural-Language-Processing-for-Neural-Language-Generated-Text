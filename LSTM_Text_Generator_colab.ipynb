{
 "cells": [
  {
   "cell_type": "code",
   "execution_count": null,
   "metadata": {
    "colab": {
     "base_uri": "https://localhost:8080/"
    },
    "id": "EgU4yqwRMbE9",
    "outputId": "1024010b-1249-4389-9dee-b0f516bbfe18"
   },
   "outputs": [
    {
     "name": "stdout",
     "output_type": "stream",
     "text": [
      "[nltk_data] Downloading package punkt to /root/nltk_data...\n",
      "[nltk_data]   Unzipping tokenizers/punkt.zip.\n",
      "[nltk_data] Downloading package wordnet to /root/nltk_data...\n",
      "[nltk_data]   Unzipping corpora/wordnet.zip.\n"
     ]
    }
   ],
   "source": [
    "# Importing the Libraries\n",
    "import nltk\n",
    "nltk.download('punkt')\n",
    "nltk.download('wordnet')\n",
    "from nltk.tokenize import RegexpTokenizer\n",
    "from nltk import sent_tokenize, word_tokenize\n",
    "from nltk.stem.snowball import SnowballStemmer\n",
    "from nltk.stem.wordnet import WordNetLemmatizer\n",
    "from nltk.corpus import stopwords\n",
    "import pandas as pd\n",
    "import numpy as np\n",
    "import re  \n",
    "import spacy\n",
    "#import en_core_web_sm\n",
    "#nlp = en_core_web_sm.load()\n",
    "nlp = spacy.load('en',disable=['parser', 'tagger','ner'])\n",
    "import matplotlib.pyplot as plt; plt.rcdefaults()\n",
    "import numpy as np\n",
    "import matplotlib.pyplot as plt\n",
    "import seaborn as sns\n",
    "import tensorflow as tf"
   ]
  },
  {
   "cell_type": "code",
   "execution_count": null,
   "metadata": {
    "colab": {
     "base_uri": "https://localhost:8080/"
    },
    "id": "21zPLE5dGCcI",
    "outputId": "5071dc3b-2d21-43d3-cee6-9c85f3a82a68"
   },
   "outputs": [
    {
     "name": "stdout",
     "output_type": "stream",
     "text": [
      "Book contains a total of 594199 characters\n"
     ]
    }
   ],
   "source": [
    "# Importing the dataset\n",
    "# Link for dataset: https://www.gutenberg.org/files/1661/1661-0.txt\n",
    "text = open(\"Sherlock.txt\", 'rb').read().decode(encoding='utf-8')\n",
    "print ('Book contains a total of {} characters'.format(len(text)))"
   ]
  },
  {
   "cell_type": "code",
   "execution_count": null,
   "metadata": {
    "colab": {
     "base_uri": "https://localhost:8080/"
    },
    "id": "lhPx-R3sMPkK",
    "outputId": "10d367fd-2fe3-49c0-862b-edb339326f84"
   },
   "outputs": [
    {
     "name": "stdout",
     "output_type": "stream",
     "text": [
      "Mounted at /content/drive\n"
     ]
    }
   ],
   "source": [
    "from google.colab import drive\n",
    "drive.mount('/content/drive')"
   ]
  },
  {
   "cell_type": "code",
   "execution_count": null,
   "metadata": {
    "id": "H9IwAkHICWFA"
   },
   "outputs": [],
   "source": [
    "\"\"\" \n",
    "# Increasing the training data \n",
    "## Not feasible because system crashing due t unavailability of RAM\n",
    "data = data2  = \"\" \n",
    "\n",
    "# Reading data from file1 \n",
    "with open('Sherlock.txt') as fp: \n",
    "\tdata = fp.read() \n",
    "\n",
    "# Reading data from file2 \n",
    "with open('return.txt') as fp: \n",
    "\tdata2 = fp.read() \n",
    "  \n",
    "\n",
    "# Merging 2 files \n",
    "# To add the data of file2 \n",
    "# from next line \n",
    "#data += \"\\n\"\n",
    "data = data+\"\\n\"+data2\n",
    "\n",
    "with open ('finel.txt', 'w') as fp: \n",
    "\tfp.write(data) \n",
    "\n",
    "#nlp.max_length = 1274990\n",
    "\n",
    "text = open(\"finel.txt\", 'rb').read().decode(encoding='utf-8')\n",
    "print ('Book contains a total of {} characters'.format(len(text)))\n",
    "\"\"\""
   ]
  },
  {
   "cell_type": "code",
   "execution_count": null,
   "metadata": {
    "colab": {
     "base_uri": "https://localhost:8080/"
    },
    "id": "D79BRqToNB1p",
    "outputId": "f71d98f9-b6fd-4501-d1ed-7afccf09658e"
   },
   "outputs": [
    {
     "name": "stdout",
     "output_type": "stream",
     "text": [
      "\n",
      "I. A SCANDAL IN BOHEMIA\r\n",
      "\r\n",
      "\r\n",
      "I.\r\n",
      "\r\n",
      "To Sherlock Holmes she is always _the_ woman. I have seldom hear\n"
     ]
    }
   ],
   "source": [
    "## Snippet of the book\n",
    "print(text[1300:1400])"
   ]
  },
  {
   "cell_type": "code",
   "execution_count": null,
   "metadata": {
    "id": "5cXqHomNMsmP"
   },
   "outputs": [],
   "source": [
    "#Tokenizing the data\n",
    "sentences = sent_tokenize(text)\n",
    "tokenizer = RegexpTokenizer('[A-Za-z]\\w+')\n",
    "tokens=tokenizer.tokenize(text)\n",
    "#print(tokens)"
   ]
  },
  {
   "cell_type": "code",
   "execution_count": null,
   "metadata": {
    "id": "DvqpO9ssGCjf"
   },
   "outputs": [],
   "source": [
    "# Converting tokens to dataframes for exploring the dataset \n",
    "df = pd.DataFrame(tokens)\n",
    "df = df[0].value_counts()"
   ]
  },
  {
   "cell_type": "code",
   "execution_count": null,
   "metadata": {
    "id": "ShRc4ShOGCmb"
   },
   "outputs": [],
   "source": [
    "#This will give frequencies of words\n",
    "\n",
    "from nltk.probability import FreqDist\n",
    "freqdoctor = FreqDist()\n",
    "for words in df:\n",
    "    freqdoctor[words] += 1\n",
    "\n",
    "#freqdoctor"
   ]
  },
  {
   "cell_type": "code",
   "execution_count": null,
   "metadata": {
    "colab": {
     "base_uri": "https://localhost:8080/"
    },
    "id": "oJB3mzXSGCps",
    "outputId": "f620eb83-84b0-4808-efbb-e5ff9e95a1d0"
   },
   "outputs": [
    {
     "data": {
      "text/plain": [
       "the      5428\n",
       "and      2888\n",
       "to       2790\n",
       "of       2737\n",
       "in       1750\n",
       "that     1664\n",
       "was      1394\n",
       "it       1303\n",
       "you      1286\n",
       "he       1168\n",
       "is       1129\n",
       "his      1103\n",
       "have      909\n",
       "my        907\n",
       "with      850\n",
       "had       822\n",
       "as        780\n",
       "which     770\n",
       "at        742\n",
       "for       716\n",
       "Name: 0, dtype: int64"
      ]
     },
     "execution_count": 7,
     "metadata": {
      "tags": []
     },
     "output_type": "execute_result"
    }
   ],
   "source": [
    "#This dataframe shows the top 20 words being used\n",
    "\n",
    "df = df[:20,]\n",
    "df"
   ]
  },
  {
   "cell_type": "code",
   "execution_count": null,
   "metadata": {
    "colab": {
     "base_uri": "https://localhost:8080/",
     "height": 407
    },
    "id": "rhcc5nwFGCsm",
    "outputId": "90b14dc3-bd62-4fa0-9b53-c120a13e1000"
   },
   "outputs": [
    {
     "name": "stderr",
     "output_type": "stream",
     "text": [
      "/usr/local/lib/python3.6/dist-packages/seaborn/_decorators.py:43: FutureWarning: Pass the following variables as keyword args: x, y. From version 0.12, the only valid positional argument will be `data`, and passing other arguments without an explicit keyword will result in an error or misinterpretation.\n",
      "  FutureWarning\n"
     ]
    },
    {
     "data": {
      "image/png": "[encoded data removed]",
      "text/plain": [
       "<Figure size 720x360 with 1 Axes>"
      ]
     },
     "metadata": {
      "needs_background": "light",
      "tags": []
     },
     "output_type": "display_data"
    }
   ],
   "source": [
    "#This is a plot that shows the top 20 words being used\n",
    "\n",
    "plt.figure(figsize=(10,5))\n",
    "sns.barplot(df.values, df.index, alpha=0.8)\n",
    "plt.title('Top Words Overall')\n",
    "plt.ylabel('Word ', fontsize=12)\n",
    "plt.xlabel('Count of Words', fontsize=12)\n",
    "plt.show()"
   ]
  },
  {
   "cell_type": "markdown",
   "metadata": {
    "id": "wJG-mms9Pils"
   },
   "source": [
    "###Preprocessing the data"
   ]
  },
  {
   "cell_type": "code",
   "execution_count": null,
   "metadata": {
    "id": "qYbhapmXHmXG"
   },
   "outputs": [],
   "source": [
    "# Removed first 1300 characters to remove details related to project gutenberg\n",
    "text = text [1300:]"
   ]
  },
  {
   "cell_type": "code",
   "execution_count": null,
   "metadata": {
    "id": "VSE7Ij-sUiDN"
   },
   "outputs": [],
   "source": [
    "# cleaning text by removing punctuations\n",
    "def separate_punc(doc_text):\n",
    "    return [token.text.lower() for token in nlp(doc_text) if token.text not in '\\n\\n \\n\\n\\n!\"-#$%&()--.*+,-/:;<=>?@[\\\\]^_`{|}~\\t\\n \\r\\n\\r\\n\\r\\n \\r\\n\\r\\n']\n",
    "tokens = separate_punc(text)\n",
    "#tokens"
   ]
  },
  {
   "cell_type": "code",
   "execution_count": null,
   "metadata": {
    "colab": {
     "base_uri": "https://localhost:8080/"
    },
    "id": "FIkeahBaUiGQ",
    "outputId": "6774531f-9bd9-4c7e-eb50-8bdedca04d61"
   },
   "outputs": [
    {
     "data": {
      "text/plain": [
       "115189"
      ]
     },
     "execution_count": 20,
     "metadata": {
      "tags": []
     },
     "output_type": "execute_result"
    }
   ],
   "source": [
    "len(tokens)"
   ]
  },
  {
   "cell_type": "markdown",
   "metadata": {
    "id": "ycy_ZvPeY0D-"
   },
   "source": [
    "###Prepare Dataset\n",
    "\n",
    "We leverage a sliding window approach to train out model. We first set the maximum sequence length to 25 words. This is done for the purposes of preparing and training batches."
   ]
  },
  {
   "cell_type": "code",
   "execution_count": null,
   "metadata": {
    "id": "b2hRjIeYUiJc"
   },
   "outputs": [],
   "source": [
    "# Creating Sequence of tokens\n",
    "# organize into sequences of tokens\n",
    "train_len = 25+1 # 50 training words , then one target word\n",
    "\n",
    "# Empty list of sequences\n",
    "text_sequences = []\n",
    "\n",
    "for i in range(train_len, len(tokens)):\n",
    "    \n",
    "    # Grab train_len# amount of characters\n",
    "    seq = tokens[i-train_len:i]\n",
    "    \n",
    "    # Add to list of sequences\n",
    "    text_sequences.append(seq)"
   ]
  },
  {
   "cell_type": "code",
   "execution_count": null,
   "metadata": {
    "colab": {
     "base_uri": "https://localhost:8080/",
     "height": 52
    },
    "id": "3c0KE02yUiNC",
    "outputId": "4a80a32f-8e90-4e89-a07f-81fd69a7e1c1"
   },
   "outputs": [
    {
     "data": {
      "application/vnd.google.colaboratory.intrinsic+json": {
       "type": "string"
      },
      "text/plain": [
       "'i. a scandal in bohemia i. to sherlock holmes she is always the woman i have seldom heard him mention her under any other name in'"
      ]
     },
     "execution_count": 12,
     "metadata": {
      "tags": []
     },
     "output_type": "execute_result"
    }
   ],
   "source": [
    "' '.join(text_sequences[0])"
   ]
  },
  {
   "cell_type": "code",
   "execution_count": null,
   "metadata": {
    "colab": {
     "base_uri": "https://localhost:8080/"
    },
    "id": "fvwLHmNrZPta",
    "outputId": "975f46bb-526f-499a-ab11-6872366fa32d"
   },
   "outputs": [
    {
     "data": {
      "text/plain": [
       "115163"
      ]
     },
     "execution_count": 13,
     "metadata": {
      "tags": []
     },
     "output_type": "execute_result"
    }
   ],
   "source": [
    "len(text_sequences)"
   ]
  },
  {
   "cell_type": "code",
   "execution_count": null,
   "metadata": {
    "id": "hzafERjbZYCA"
   },
   "outputs": [],
   "source": [
    "### Character to Integer Mapping\n",
    "from keras.preprocessing.text import Tokenizer\n",
    "tokenizer = Tokenizer()\n",
    "tokenizer.fit_on_texts(text_sequences)\n",
    "sequences = tokenizer.texts_to_sequences(text_sequences)"
   ]
  },
  {
   "cell_type": "code",
   "execution_count": null,
   "metadata": {
    "id": "we22gh6_ZYFf"
   },
   "outputs": [],
   "source": [
    "#sequences[0]"
   ]
  },
  {
   "cell_type": "code",
   "execution_count": null,
   "metadata": {
    "id": "tETC86ZuZYI7"
   },
   "outputs": [],
   "source": [
    "#tokenizer.index_word"
   ]
  },
  {
   "cell_type": "code",
   "execution_count": null,
   "metadata": {
    "colab": {
     "base_uri": "https://localhost:8080/"
    },
    "id": "afsbS2vsZYMK",
    "outputId": "b3e3bec6-9e9d-4ae6-da93-0e430d26c6bd"
   },
   "outputs": [
    {
     "name": "stdout",
     "output_type": "stream",
     "text": [
      "465 : i.\n",
      "7 : a\n",
      "981 : scandal\n",
      "9 : in\n",
      "1057 : bohemia\n",
      "465 : i.\n",
      "4 : to\n",
      "136 : sherlock\n",
      "36 : holmes\n",
      "41 : she\n",
      "16 : is\n",
      "229 : always\n",
      "1 : the\n",
      "194 : woman\n",
      "3 : i\n",
      "18 : have\n",
      "1832 : seldom\n",
      "121 : heard\n",
      "38 : him\n",
      "4562 : mention\n",
      "40 : her\n",
      "268 : under\n",
      "93 : any\n",
      "96 : other\n",
      "217 : name\n",
      "9 : in\n"
     ]
    }
   ],
   "source": [
    "for i in sequences[0]:\n",
    "    print(f'{i} : {tokenizer.index_word[i]}')"
   ]
  },
  {
   "cell_type": "code",
   "execution_count": null,
   "metadata": {
    "id": "RVbSDfwCaPua"
   },
   "outputs": [],
   "source": [
    "#tokenizer.word_counts\n",
    "vocabulary_size = len(tokenizer.word_counts)"
   ]
  },
  {
   "cell_type": "code",
   "execution_count": null,
   "metadata": {
    "colab": {
     "base_uri": "https://localhost:8080/"
    },
    "id": "entRCeGjaP3Y",
    "outputId": "3bed5c50-6963-4d8d-b3b5-412a4cbea0c2"
   },
   "outputs": [
    {
     "data": {
      "text/plain": [
       "array([[ 465,    7,  981, ...,   96,  217,    9],\n",
       "       [   7,  981,    9, ...,  217,    9,   15],\n",
       "       [ 981,    9, 1057, ...,    9,   15,  152],\n",
       "       ...,\n",
       "       [ 799,    4,    1, ...,    4,  361,   84],\n",
       "       [   4,    1,  158, ...,  361,   84,  371],\n",
       "       [   1,  158,  159, ...,   84,  371, 1833]])"
      ]
     },
     "execution_count": 19,
     "metadata": {
      "tags": []
     },
     "output_type": "execute_result"
    }
   ],
   "source": [
    "# Converting seuence to numpy matrix\n",
    "sequences = np.array(sequences)\n",
    "sequences"
   ]
  },
  {
   "cell_type": "code",
   "execution_count": null,
   "metadata": {
    "id": "Rb8euKbpfNL3"
   },
   "outputs": [],
   "source": [
    "# Creating LSTM based Model\n",
    "from keras.models import Sequential\n",
    "from keras.layers import Dense,LSTM,Embedding,Dropout\n",
    "def create_model(vocabulary_size, seq_len):\n",
    "    model = Sequential()\n",
    "    model.add(Embedding(vocabulary_size, 25, input_length=seq_len))\n",
    "    model.add(LSTM(250, return_sequences=True))\n",
    "    model.add(Dropout(0.2))\n",
    "    model.add(LSTM(250))\n",
    "    model.add(Dense(200, activation='relu'))\n",
    "    model.add(Dense(vocabulary_size, activation='softmax'))    \n",
    "    model.compile(loss='categorical_crossentropy', optimizer='adam', metrics=['accuracy'])   \n",
    "    model.summary()    \n",
    "    return model"
   ]
  },
  {
   "cell_type": "code",
   "execution_count": null,
   "metadata": {
    "id": "zX7u1yz3MNQf"
   },
   "outputs": [],
   "source": []
  },
  {
   "cell_type": "code",
   "execution_count": null,
   "metadata": {
    "colab": {
     "base_uri": "https://localhost:8080/"
    },
    "id": "dAC_aLtVdIg6",
    "outputId": "70894547-e90d-4a6f-e93a-a428efabbf46"
   },
   "outputs": [
    {
     "data": {
      "text/plain": [
       "25"
      ]
     },
     "execution_count": 21,
     "metadata": {
      "tags": []
     },
     "output_type": "execute_result"
    }
   ],
   "source": [
    "from keras.utils import to_categorical\n",
    "X = sequences[:,:-1]\n",
    "# last Word\n",
    "y = sequences[:,-1]\n",
    "y = to_categorical(y, num_classes=vocabulary_size+1)\n",
    "seq_len = X.shape[1]\n",
    "seq_len"
   ]
  },
  {
   "cell_type": "code",
   "execution_count": null,
   "metadata": {
    "id": "8ZjUJ3XwgNGe"
   },
   "outputs": [],
   "source": [
    "# define model\n",
    "model = create_model(vocabulary_size+1, seq_len)"
   ]
  },
  {
   "cell_type": "code",
   "execution_count": null,
   "metadata": {
    "id": "VPdvukSGgNKA"
   },
   "outputs": [],
   "source": [
    "from pickle import dump,load"
   ]
  },
  {
   "cell_type": "code",
   "execution_count": null,
   "metadata": {
    "colab": {
     "base_uri": "https://localhost:8080/"
    },
    "id": "_6c1qHotgNNR",
    "outputId": "e15b6edf-b992-4a2d-8448-2adf796c91df"
   },
   "outputs": [
    {
     "name": "stdout",
     "output_type": "stream",
     "text": [
      "Epoch 1/300\n",
      "600/600 - 12s - loss: 5.2140 - accuracy: 0.1349\n",
      "Epoch 2/300\n",
      "600/600 - 12s - loss: 5.0509 - accuracy: 0.1455\n",
      "Epoch 3/300\n",
      "600/600 - 12s - loss: 4.9423 - accuracy: 0.1515\n",
      "Epoch 4/300\n",
      "600/600 - 12s - loss: 4.8453 - accuracy: 0.1564\n",
      "Epoch 5/300\n",
      "600/600 - 12s - loss: 4.7573 - accuracy: 0.1596\n",
      "Epoch 6/300\n",
      "600/600 - 12s - loss: 4.6638 - accuracy: 0.1632\n",
      "Epoch 7/300\n",
      "600/600 - 12s - loss: 4.5754 - accuracy: 0.1673\n",
      "Epoch 8/300\n",
      "600/600 - 12s - loss: 4.4945 - accuracy: 0.1692\n",
      "Epoch 9/300\n",
      "600/600 - 12s - loss: 4.4172 - accuracy: 0.1723\n",
      "Epoch 10/300\n",
      "600/600 - 12s - loss: 4.3438 - accuracy: 0.1743\n",
      "Epoch 11/300\n",
      "600/600 - 12s - loss: 4.2760 - accuracy: 0.1779\n",
      "Epoch 12/300\n",
      "600/600 - 12s - loss: 4.2115 - accuracy: 0.1795\n",
      "Epoch 13/300\n",
      "600/600 - 12s - loss: 4.1499 - accuracy: 0.1834\n",
      "Epoch 14/300\n",
      "600/600 - 12s - loss: 4.0943 - accuracy: 0.1876\n",
      "Epoch 15/300\n",
      "600/600 - 12s - loss: 4.0399 - accuracy: 0.1908\n",
      "Epoch 16/300\n",
      "600/600 - 12s - loss: 3.9873 - accuracy: 0.1955\n",
      "Epoch 17/300\n",
      "600/600 - 12s - loss: 3.9570 - accuracy: 0.1970\n",
      "Epoch 18/300\n",
      "600/600 - 12s - loss: 3.8958 - accuracy: 0.2032\n",
      "Epoch 19/300\n",
      "600/600 - 12s - loss: 3.8588 - accuracy: 0.2061\n",
      "Epoch 20/300\n",
      "600/600 - 12s - loss: 3.8078 - accuracy: 0.2116\n",
      "Epoch 21/300\n",
      "600/600 - 12s - loss: 3.7661 - accuracy: 0.2152\n",
      "Epoch 22/300\n",
      "600/600 - 12s - loss: 3.7280 - accuracy: 0.2201\n",
      "Epoch 23/300\n",
      "600/600 - 12s - loss: 3.7110 - accuracy: 0.2225\n",
      "Epoch 24/300\n",
      "600/600 - 12s - loss: 3.6947 - accuracy: 0.2237\n",
      "Epoch 25/300\n",
      "600/600 - 12s - loss: 3.6961 - accuracy: 0.2233\n",
      "Epoch 26/300\n",
      "600/600 - 12s - loss: 3.6395 - accuracy: 0.2294\n",
      "Epoch 27/300\n",
      "600/600 - 12s - loss: 3.6003 - accuracy: 0.2341\n",
      "Epoch 28/300\n",
      "600/600 - 12s - loss: 3.5524 - accuracy: 0.2400\n",
      "Epoch 29/300\n",
      "600/600 - 12s - loss: 3.5185 - accuracy: 0.2449\n",
      "Epoch 30/300\n",
      "600/600 - 12s - loss: 3.4911 - accuracy: 0.2486\n",
      "Epoch 31/300\n",
      "600/600 - 12s - loss: 3.4635 - accuracy: 0.2528\n",
      "Epoch 32/300\n",
      "600/600 - 12s - loss: 3.4441 - accuracy: 0.2533\n",
      "Epoch 33/300\n",
      "600/600 - 12s - loss: 3.4239 - accuracy: 0.2563\n",
      "Epoch 34/300\n",
      "600/600 - 12s - loss: 3.3915 - accuracy: 0.2608\n",
      "Epoch 35/300\n",
      "600/600 - 12s - loss: 3.3962 - accuracy: 0.2605\n",
      "Epoch 36/300\n",
      "600/600 - 12s - loss: 3.3693 - accuracy: 0.2642\n",
      "Epoch 37/300\n",
      "600/600 - 12s - loss: 3.3258 - accuracy: 0.2698\n",
      "Epoch 38/300\n",
      "600/600 - 12s - loss: 3.2953 - accuracy: 0.2749\n",
      "Epoch 39/300\n",
      "600/600 - 12s - loss: 3.2780 - accuracy: 0.2768\n",
      "Epoch 40/300\n",
      "600/600 - 12s - loss: 3.2549 - accuracy: 0.2816\n",
      "Epoch 41/300\n",
      "600/600 - 12s - loss: 3.2399 - accuracy: 0.2820\n",
      "Epoch 42/300\n",
      "600/600 - 12s - loss: 3.2206 - accuracy: 0.2844\n",
      "Epoch 43/300\n",
      "600/600 - 12s - loss: 3.1878 - accuracy: 0.2902\n",
      "Epoch 44/300\n",
      "600/600 - 12s - loss: 3.1726 - accuracy: 0.2927\n",
      "Epoch 45/300\n",
      "600/600 - 12s - loss: 3.1593 - accuracy: 0.2944\n",
      "Epoch 46/300\n",
      "600/600 - 12s - loss: 3.1439 - accuracy: 0.2962\n",
      "Epoch 47/300\n",
      "600/600 - 12s - loss: 3.1135 - accuracy: 0.3007\n",
      "Epoch 48/300\n",
      "600/600 - 12s - loss: 3.1318 - accuracy: 0.2980\n",
      "Epoch 49/300\n",
      "600/600 - 12s - loss: 3.0739 - accuracy: 0.3079\n",
      "Epoch 50/300\n",
      "600/600 - 12s - loss: 3.0490 - accuracy: 0.3105\n",
      "Epoch 51/300\n",
      "600/600 - 12s - loss: 3.0293 - accuracy: 0.3150\n",
      "Epoch 52/300\n",
      "600/600 - 12s - loss: 3.0137 - accuracy: 0.3164\n",
      "Epoch 53/300\n",
      "600/600 - 12s - loss: 2.9933 - accuracy: 0.3190\n",
      "Epoch 54/300\n",
      "600/600 - 12s - loss: 2.9769 - accuracy: 0.3227\n",
      "Epoch 55/300\n",
      "600/600 - 12s - loss: 2.9558 - accuracy: 0.3270\n",
      "Epoch 56/300\n",
      "600/600 - 12s - loss: 2.9363 - accuracy: 0.3285\n",
      "Epoch 57/300\n",
      "600/600 - 12s - loss: 2.9194 - accuracy: 0.3304\n",
      "Epoch 58/300\n",
      "600/600 - 12s - loss: 2.9034 - accuracy: 0.3337\n",
      "Epoch 59/300\n",
      "600/600 - 12s - loss: 2.8837 - accuracy: 0.3375\n",
      "Epoch 60/300\n",
      "600/600 - 12s - loss: 2.8712 - accuracy: 0.3392\n",
      "Epoch 61/300\n",
      "600/600 - 12s - loss: 2.8502 - accuracy: 0.3433\n",
      "Epoch 62/300\n",
      "600/600 - 12s - loss: 2.8260 - accuracy: 0.3464\n",
      "Epoch 63/300\n",
      "600/600 - 12s - loss: 2.8131 - accuracy: 0.3489\n",
      "Epoch 64/300\n",
      "600/600 - 12s - loss: 2.7948 - accuracy: 0.3514\n",
      "Epoch 65/300\n",
      "600/600 - 12s - loss: 2.7791 - accuracy: 0.3544\n",
      "Epoch 66/300\n",
      "600/600 - 12s - loss: 2.7631 - accuracy: 0.3560\n",
      "Epoch 67/300\n",
      "600/600 - 12s - loss: 2.7479 - accuracy: 0.3580\n",
      "Epoch 68/300\n",
      "600/600 - 12s - loss: 2.7317 - accuracy: 0.3619\n",
      "Epoch 69/300\n",
      "600/600 - 12s - loss: 2.7145 - accuracy: 0.3653\n",
      "Epoch 70/300\n",
      "600/600 - 12s - loss: 2.6977 - accuracy: 0.3669\n",
      "Epoch 71/300\n",
      "600/600 - 12s - loss: 2.6769 - accuracy: 0.3717\n",
      "Epoch 72/300\n",
      "600/600 - 12s - loss: 2.6633 - accuracy: 0.3722\n",
      "Epoch 73/300\n",
      "600/600 - 12s - loss: 2.6477 - accuracy: 0.3749\n",
      "Epoch 74/300\n",
      "600/600 - 12s - loss: 2.6338 - accuracy: 0.3784\n",
      "Epoch 75/300\n",
      "600/600 - 12s - loss: 2.6226 - accuracy: 0.3809\n",
      "Epoch 76/300\n",
      "600/600 - 12s - loss: 2.6613 - accuracy: 0.3715\n",
      "Epoch 77/300\n",
      "600/600 - 12s - loss: 2.5960 - accuracy: 0.3836\n",
      "Epoch 78/300\n",
      "600/600 - 12s - loss: 2.5812 - accuracy: 0.3872\n",
      "Epoch 79/300\n",
      "600/600 - 12s - loss: 2.5591 - accuracy: 0.3907\n",
      "Epoch 80/300\n",
      "600/600 - 11s - loss: 2.5524 - accuracy: 0.3923\n",
      "Epoch 81/300\n",
      "600/600 - 12s - loss: 2.5344 - accuracy: 0.3951\n",
      "Epoch 82/300\n",
      "600/600 - 12s - loss: 2.5148 - accuracy: 0.4000\n",
      "Epoch 83/300\n",
      "600/600 - 12s - loss: 2.5036 - accuracy: 0.4020\n",
      "Epoch 84/300\n",
      "600/600 - 12s - loss: 2.4917 - accuracy: 0.4029\n",
      "Epoch 85/300\n",
      "600/600 - 12s - loss: 2.4774 - accuracy: 0.4053\n",
      "Epoch 86/300\n",
      "600/600 - 12s - loss: 2.4655 - accuracy: 0.4077\n",
      "Epoch 87/300\n",
      "600/600 - 12s - loss: 2.4537 - accuracy: 0.4088\n",
      "Epoch 88/300\n",
      "600/600 - 11s - loss: 2.4407 - accuracy: 0.4132\n",
      "Epoch 89/300\n",
      "600/600 - 12s - loss: 2.4230 - accuracy: 0.4153\n",
      "Epoch 90/300\n",
      "600/600 - 12s - loss: 2.4085 - accuracy: 0.4179\n",
      "Epoch 91/300\n",
      "600/600 - 12s - loss: 2.4045 - accuracy: 0.4184\n",
      "Epoch 92/300\n",
      "600/600 - 12s - loss: 2.3925 - accuracy: 0.4198\n",
      "Epoch 93/300\n",
      "600/600 - 12s - loss: 2.3746 - accuracy: 0.4240\n",
      "Epoch 94/300\n",
      "600/600 - 12s - loss: 2.3593 - accuracy: 0.4264\n",
      "Epoch 95/300\n",
      "600/600 - 12s - loss: 2.3480 - accuracy: 0.4291\n",
      "Epoch 96/300\n",
      "600/600 - 12s - loss: 2.3360 - accuracy: 0.4312\n",
      "Epoch 97/300\n",
      "600/600 - 12s - loss: 2.3230 - accuracy: 0.4334\n",
      "Epoch 98/300\n",
      "600/600 - 12s - loss: 2.3146 - accuracy: 0.4339\n",
      "Epoch 99/300\n",
      "600/600 - 12s - loss: 2.3012 - accuracy: 0.4383\n",
      "Epoch 100/300\n",
      "600/600 - 12s - loss: 2.2925 - accuracy: 0.4386\n",
      "Epoch 101/300\n",
      "600/600 - 12s - loss: 2.2739 - accuracy: 0.4411\n",
      "Epoch 102/300\n",
      "600/600 - 12s - loss: 2.2647 - accuracy: 0.4457\n",
      "Epoch 103/300\n",
      "600/600 - 12s - loss: 2.2542 - accuracy: 0.4450\n",
      "Epoch 104/300\n",
      "600/600 - 12s - loss: 2.2460 - accuracy: 0.4473\n",
      "Epoch 105/300\n",
      "600/600 - 12s - loss: 2.2348 - accuracy: 0.4487\n",
      "Epoch 106/300\n",
      "600/600 - 12s - loss: 2.2235 - accuracy: 0.4504\n",
      "Epoch 107/300\n",
      "600/600 - 11s - loss: 2.2113 - accuracy: 0.4536\n",
      "Epoch 108/300\n",
      "600/600 - 11s - loss: 2.2034 - accuracy: 0.4550\n",
      "Epoch 109/300\n",
      "600/600 - 11s - loss: 2.1889 - accuracy: 0.4580\n",
      "Epoch 110/300\n",
      "600/600 - 12s - loss: 2.1774 - accuracy: 0.4595\n",
      "Epoch 111/300\n",
      "600/600 - 12s - loss: 2.1715 - accuracy: 0.4620\n",
      "Epoch 112/300\n",
      "600/600 - 11s - loss: 2.1601 - accuracy: 0.4640\n",
      "Epoch 113/300\n",
      "600/600 - 11s - loss: 2.1439 - accuracy: 0.4664\n",
      "Epoch 114/300\n",
      "600/600 - 12s - loss: 2.1324 - accuracy: 0.4691\n",
      "Epoch 115/300\n",
      "600/600 - 11s - loss: 2.1245 - accuracy: 0.4682\n",
      "Epoch 116/300\n",
      "600/600 - 12s - loss: 2.1136 - accuracy: 0.4707\n",
      "Epoch 117/300\n",
      "600/600 - 12s - loss: 2.1128 - accuracy: 0.4720\n",
      "Epoch 118/300\n",
      "600/600 - 12s - loss: 2.0943 - accuracy: 0.4757\n",
      "Epoch 119/300\n",
      "600/600 - 11s - loss: 2.0828 - accuracy: 0.4797\n",
      "Epoch 120/300\n",
      "600/600 - 12s - loss: 2.0740 - accuracy: 0.4804\n",
      "Epoch 121/300\n",
      "600/600 - 12s - loss: 2.0638 - accuracy: 0.4826\n",
      "Epoch 122/300\n",
      "600/600 - 11s - loss: 2.0603 - accuracy: 0.4818\n",
      "Epoch 123/300\n",
      "600/600 - 12s - loss: 2.0506 - accuracy: 0.4847\n",
      "Epoch 124/300\n",
      "600/600 - 12s - loss: 2.0435 - accuracy: 0.4860\n",
      "Epoch 125/300\n",
      "600/600 - 12s - loss: 2.0307 - accuracy: 0.4884\n",
      "Epoch 126/300\n",
      "600/600 - 11s - loss: 2.0180 - accuracy: 0.4907\n",
      "Epoch 127/300\n",
      "600/600 - 11s - loss: 2.0110 - accuracy: 0.4918\n",
      "Epoch 128/300\n",
      "600/600 - 12s - loss: 1.9990 - accuracy: 0.4944\n",
      "Epoch 129/300\n",
      "600/600 - 12s - loss: 1.9968 - accuracy: 0.4940\n",
      "Epoch 130/300\n",
      "600/600 - 11s - loss: 1.9830 - accuracy: 0.4970\n",
      "Epoch 131/300\n",
      "600/600 - 12s - loss: 1.9783 - accuracy: 0.4987\n",
      "Epoch 132/300\n",
      "600/600 - 11s - loss: 1.9692 - accuracy: 0.5002\n",
      "Epoch 133/300\n",
      "600/600 - 12s - loss: 1.9621 - accuracy: 0.5012\n",
      "Epoch 134/300\n",
      "600/600 - 11s - loss: 1.9500 - accuracy: 0.5027\n",
      "Epoch 135/300\n",
      "600/600 - 12s - loss: 1.9431 - accuracy: 0.5044\n",
      "Epoch 136/300\n",
      "600/600 - 12s - loss: 1.9338 - accuracy: 0.5074\n",
      "Epoch 137/300\n",
      "600/600 - 12s - loss: 1.9275 - accuracy: 0.5084\n",
      "Epoch 138/300\n",
      "600/600 - 12s - loss: 1.9128 - accuracy: 0.5112\n",
      "Epoch 139/300\n",
      "600/600 - 12s - loss: 1.9068 - accuracy: 0.5115\n",
      "Epoch 140/300\n",
      "600/600 - 11s - loss: 1.8978 - accuracy: 0.5143\n",
      "Epoch 141/300\n",
      "600/600 - 12s - loss: 1.8962 - accuracy: 0.5152\n",
      "Epoch 142/300\n",
      "600/600 - 12s - loss: 1.8838 - accuracy: 0.5166\n",
      "Epoch 143/300\n",
      "600/600 - 12s - loss: 1.8809 - accuracy: 0.5171\n",
      "Epoch 144/300\n",
      "600/600 - 12s - loss: 1.8677 - accuracy: 0.5199\n",
      "Epoch 145/300\n",
      "600/600 - 12s - loss: 1.8624 - accuracy: 0.5229\n",
      "Epoch 146/300\n",
      "600/600 - 12s - loss: 1.8531 - accuracy: 0.5229\n",
      "Epoch 147/300\n",
      "600/600 - 12s - loss: 1.8467 - accuracy: 0.5241\n",
      "Epoch 148/300\n",
      "600/600 - 12s - loss: 1.8310 - accuracy: 0.5266\n",
      "Epoch 149/300\n",
      "600/600 - 12s - loss: 1.8280 - accuracy: 0.5285\n",
      "Epoch 150/300\n",
      "600/600 - 12s - loss: 1.8240 - accuracy: 0.5283\n",
      "Epoch 151/300\n",
      "600/600 - 12s - loss: 1.8152 - accuracy: 0.5300\n",
      "Epoch 152/300\n",
      "600/600 - 12s - loss: 1.8145 - accuracy: 0.5315\n",
      "Epoch 153/300\n",
      "600/600 - 12s - loss: 1.7967 - accuracy: 0.5329\n",
      "Epoch 154/300\n",
      "600/600 - 12s - loss: 1.7926 - accuracy: 0.5353\n",
      "Epoch 155/300\n",
      "600/600 - 12s - loss: 1.7837 - accuracy: 0.5379\n",
      "Epoch 156/300\n",
      "600/600 - 12s - loss: 1.7749 - accuracy: 0.5398\n",
      "Epoch 157/300\n",
      "600/600 - 12s - loss: 1.7690 - accuracy: 0.5389\n",
      "Epoch 158/300\n",
      "600/600 - 12s - loss: 1.7640 - accuracy: 0.5410\n",
      "Epoch 159/300\n",
      "600/600 - 12s - loss: 1.7616 - accuracy: 0.5418\n",
      "Epoch 160/300\n",
      "600/600 - 12s - loss: 1.7628 - accuracy: 0.5407\n",
      "Epoch 161/300\n",
      "600/600 - 12s - loss: 1.7496 - accuracy: 0.5434\n",
      "Epoch 162/300\n",
      "600/600 - 12s - loss: 1.7408 - accuracy: 0.5470\n",
      "Epoch 163/300\n",
      "600/600 - 12s - loss: 1.7336 - accuracy: 0.5467\n",
      "Epoch 164/300\n",
      "600/600 - 12s - loss: 1.7293 - accuracy: 0.5487\n",
      "Epoch 165/300\n",
      "600/600 - 12s - loss: 1.7234 - accuracy: 0.5491\n",
      "Epoch 166/300\n",
      "600/600 - 12s - loss: 1.7157 - accuracy: 0.5517\n",
      "Epoch 167/300\n",
      "600/600 - 12s - loss: 1.6987 - accuracy: 0.5548\n",
      "Epoch 168/300\n",
      "600/600 - 12s - loss: 1.6962 - accuracy: 0.5543\n",
      "Epoch 169/300\n",
      "600/600 - 12s - loss: 1.6855 - accuracy: 0.5560\n",
      "Epoch 170/300\n",
      "600/600 - 12s - loss: 1.9378 - accuracy: 0.5116\n",
      "Epoch 171/300\n",
      "600/600 - 12s - loss: 1.8896 - accuracy: 0.5099\n",
      "Epoch 172/300\n",
      "600/600 - 12s - loss: 1.7583 - accuracy: 0.5413\n",
      "Epoch 173/300\n",
      "600/600 - 12s - loss: 1.7123 - accuracy: 0.5538\n",
      "Epoch 174/300\n",
      "600/600 - 12s - loss: 1.6853 - accuracy: 0.5572\n",
      "Epoch 175/300\n",
      "600/600 - 12s - loss: 1.6716 - accuracy: 0.5609\n",
      "Epoch 176/300\n",
      "600/600 - 12s - loss: 1.6569 - accuracy: 0.5637\n",
      "Epoch 177/300\n",
      "600/600 - 12s - loss: 1.6517 - accuracy: 0.5641\n",
      "Epoch 178/300\n",
      "600/600 - 12s - loss: 1.6472 - accuracy: 0.5655\n",
      "Epoch 179/300\n",
      "600/600 - 12s - loss: 1.6394 - accuracy: 0.5669\n",
      "Epoch 180/300\n",
      "600/600 - 12s - loss: 1.6305 - accuracy: 0.5694\n",
      "Epoch 181/300\n",
      "600/600 - 12s - loss: 1.6350 - accuracy: 0.5676\n",
      "Epoch 182/300\n",
      "600/600 - 12s - loss: 1.6303 - accuracy: 0.5692\n",
      "Epoch 183/300\n",
      "600/600 - 12s - loss: 1.6262 - accuracy: 0.5693\n",
      "Epoch 184/300\n",
      "600/600 - 12s - loss: 1.6266 - accuracy: 0.5694\n",
      "Epoch 185/300\n",
      "600/600 - 12s - loss: 1.6045 - accuracy: 0.5750\n",
      "Epoch 186/300\n",
      "600/600 - 11s - loss: 1.5994 - accuracy: 0.5747\n",
      "Epoch 187/300\n",
      "600/600 - 12s - loss: 1.6015 - accuracy: 0.5750\n",
      "Epoch 188/300\n",
      "600/600 - 12s - loss: 1.5978 - accuracy: 0.5767\n",
      "Epoch 189/300\n",
      "600/600 - 12s - loss: 1.5822 - accuracy: 0.5793\n",
      "Epoch 190/300\n",
      "600/600 - 12s - loss: 1.5790 - accuracy: 0.5798\n",
      "Epoch 191/300\n",
      "600/600 - 12s - loss: 1.5776 - accuracy: 0.5790\n",
      "Epoch 192/300\n",
      "600/600 - 12s - loss: 1.5622 - accuracy: 0.5847\n",
      "Epoch 193/300\n",
      "600/600 - 12s - loss: 1.5640 - accuracy: 0.5831\n",
      "Epoch 194/300\n",
      "600/600 - 12s - loss: 1.5629 - accuracy: 0.5840\n",
      "Epoch 195/300\n",
      "600/600 - 12s - loss: 1.5518 - accuracy: 0.5848\n",
      "Epoch 196/300\n",
      "600/600 - 12s - loss: 1.5528 - accuracy: 0.5849\n",
      "Epoch 197/300\n",
      "600/600 - 12s - loss: 1.5420 - accuracy: 0.5877\n",
      "Epoch 198/300\n",
      "600/600 - 12s - loss: 1.5337 - accuracy: 0.5899\n",
      "Epoch 199/300\n",
      "600/600 - 12s - loss: 1.5245 - accuracy: 0.5920\n",
      "Epoch 200/300\n",
      "600/600 - 11s - loss: 1.5175 - accuracy: 0.5944\n",
      "Epoch 201/300\n",
      "600/600 - 12s - loss: 1.5122 - accuracy: 0.5953\n",
      "Epoch 202/300\n",
      "600/600 - 12s - loss: 1.5185 - accuracy: 0.5926\n",
      "Epoch 203/300\n",
      "600/600 - 12s - loss: 1.5101 - accuracy: 0.5940\n",
      "Epoch 204/300\n",
      "600/600 - 12s - loss: 1.5003 - accuracy: 0.5977\n",
      "Epoch 205/300\n",
      "600/600 - 11s - loss: 1.4942 - accuracy: 0.5983\n",
      "Epoch 206/300\n",
      "600/600 - 12s - loss: 1.4855 - accuracy: 0.5997\n",
      "Epoch 207/300\n",
      "600/600 - 12s - loss: 1.4826 - accuracy: 0.6006\n",
      "Epoch 208/300\n",
      "600/600 - 12s - loss: 1.4767 - accuracy: 0.6018\n",
      "Epoch 209/300\n",
      "600/600 - 12s - loss: 1.4763 - accuracy: 0.6023\n",
      "Epoch 210/300\n",
      "600/600 - 11s - loss: 1.4685 - accuracy: 0.6052\n",
      "Epoch 211/300\n",
      "600/600 - 11s - loss: 1.4540 - accuracy: 0.6083\n",
      "Epoch 212/300\n",
      "600/600 - 11s - loss: 1.4506 - accuracy: 0.6073\n",
      "Epoch 213/300\n",
      "600/600 - 12s - loss: 1.4435 - accuracy: 0.6097\n",
      "Epoch 214/300\n",
      "600/600 - 12s - loss: 1.4398 - accuracy: 0.6105\n",
      "Epoch 215/300\n",
      "600/600 - 12s - loss: 1.4394 - accuracy: 0.6096\n",
      "Epoch 216/300\n",
      "600/600 - 12s - loss: 1.4359 - accuracy: 0.6103\n",
      "Epoch 217/300\n",
      "600/600 - 11s - loss: 1.4398 - accuracy: 0.6087\n",
      "Epoch 218/300\n",
      "600/600 - 12s - loss: 1.4291 - accuracy: 0.6108\n",
      "Epoch 219/300\n",
      "600/600 - 12s - loss: 1.4293 - accuracy: 0.6133\n",
      "Epoch 220/300\n",
      "600/600 - 12s - loss: 1.4210 - accuracy: 0.6135\n",
      "Epoch 221/300\n",
      "600/600 - 12s - loss: 1.4129 - accuracy: 0.6166\n",
      "Epoch 222/300\n",
      "600/600 - 12s - loss: 1.4049 - accuracy: 0.6182\n",
      "Epoch 223/300\n",
      "600/600 - 11s - loss: 1.4001 - accuracy: 0.6194\n",
      "Epoch 224/300\n",
      "600/600 - 11s - loss: 1.4008 - accuracy: 0.6188\n",
      "Epoch 225/300\n",
      "600/600 - 12s - loss: 1.3906 - accuracy: 0.6201\n",
      "Epoch 226/300\n",
      "600/600 - 12s - loss: 1.3890 - accuracy: 0.6216\n",
      "Epoch 227/300\n",
      "600/600 - 12s - loss: 1.3825 - accuracy: 0.6237\n",
      "Epoch 228/300\n",
      "600/600 - 12s - loss: 1.3832 - accuracy: 0.6236\n",
      "Epoch 229/300\n",
      "600/600 - 11s - loss: 1.3730 - accuracy: 0.6260\n",
      "Epoch 230/300\n",
      "600/600 - 12s - loss: 1.3767 - accuracy: 0.6239\n",
      "Epoch 231/300\n",
      "600/600 - 12s - loss: 1.3624 - accuracy: 0.6285\n",
      "Epoch 232/300\n",
      "600/600 - 12s - loss: 1.3643 - accuracy: 0.6268\n",
      "Epoch 233/300\n",
      "600/600 - 12s - loss: 1.3541 - accuracy: 0.6289\n",
      "Epoch 234/300\n",
      "600/600 - 12s - loss: 1.3476 - accuracy: 0.6325\n",
      "Epoch 235/300\n",
      "600/600 - 12s - loss: 1.3507 - accuracy: 0.6298\n",
      "Epoch 236/300\n",
      "600/600 - 12s - loss: 1.3528 - accuracy: 0.6285\n",
      "Epoch 237/300\n",
      "600/600 - 12s - loss: 1.3363 - accuracy: 0.6326\n",
      "Epoch 238/300\n",
      "600/600 - 12s - loss: 1.3260 - accuracy: 0.6356\n",
      "Epoch 239/300\n",
      "600/600 - 12s - loss: 1.3250 - accuracy: 0.6358\n",
      "Epoch 240/300\n",
      "600/600 - 12s - loss: 1.3233 - accuracy: 0.6366\n",
      "Epoch 241/300\n",
      "600/600 - 12s - loss: 1.3155 - accuracy: 0.6387\n",
      "Epoch 242/300\n",
      "600/600 - 12s - loss: 1.3194 - accuracy: 0.6389\n",
      "Epoch 243/300\n",
      "600/600 - 11s - loss: 1.3118 - accuracy: 0.6394\n",
      "Epoch 244/300\n",
      "600/600 - 12s - loss: 1.3075 - accuracy: 0.6399\n",
      "Epoch 245/300\n",
      "600/600 - 12s - loss: 1.2989 - accuracy: 0.6407\n",
      "Epoch 246/300\n",
      "600/600 - 11s - loss: 1.2926 - accuracy: 0.6441\n",
      "Epoch 247/300\n",
      "600/600 - 12s - loss: 1.2935 - accuracy: 0.6429\n",
      "Epoch 248/300\n",
      "600/600 - 12s - loss: 1.2895 - accuracy: 0.6435\n",
      "Epoch 249/300\n",
      "600/600 - 11s - loss: 1.2804 - accuracy: 0.6474\n",
      "Epoch 250/300\n",
      "600/600 - 11s - loss: 1.2769 - accuracy: 0.6490\n",
      "Epoch 251/300\n",
      "600/600 - 11s - loss: 1.2725 - accuracy: 0.6464\n",
      "Epoch 252/300\n",
      "600/600 - 11s - loss: 1.2707 - accuracy: 0.6494\n",
      "Epoch 253/300\n",
      "600/600 - 11s - loss: 1.2644 - accuracy: 0.6511\n",
      "Epoch 254/300\n",
      "600/600 - 11s - loss: 1.2758 - accuracy: 0.6473\n",
      "Epoch 255/300\n",
      "600/600 - 11s - loss: 1.2756 - accuracy: 0.6479\n",
      "Epoch 256/300\n",
      "600/600 - 12s - loss: 1.2555 - accuracy: 0.6529\n",
      "Epoch 257/300\n",
      "600/600 - 11s - loss: 1.2536 - accuracy: 0.6527\n",
      "Epoch 258/300\n",
      "600/600 - 12s - loss: 1.2494 - accuracy: 0.6542\n",
      "Epoch 259/300\n",
      "600/600 - 12s - loss: 1.2398 - accuracy: 0.6553\n",
      "Epoch 260/300\n",
      "600/600 - 11s - loss: 1.2336 - accuracy: 0.6577\n",
      "Epoch 261/300\n",
      "600/600 - 11s - loss: 1.2409 - accuracy: 0.6547\n",
      "Epoch 262/300\n",
      "600/600 - 11s - loss: 1.2284 - accuracy: 0.6582\n",
      "Epoch 263/300\n",
      "600/600 - 11s - loss: 1.2286 - accuracy: 0.6578\n",
      "Epoch 264/300\n",
      "600/600 - 11s - loss: 1.2194 - accuracy: 0.6616\n",
      "Epoch 265/300\n",
      "600/600 - 11s - loss: 1.2275 - accuracy: 0.6573\n",
      "Epoch 266/300\n",
      "600/600 - 11s - loss: 1.2211 - accuracy: 0.6610\n",
      "Epoch 267/300\n",
      "600/600 - 11s - loss: 1.2113 - accuracy: 0.6633\n",
      "Epoch 268/300\n",
      "600/600 - 11s - loss: 1.2130 - accuracy: 0.6626\n",
      "Epoch 269/300\n",
      "600/600 - 12s - loss: 1.2026 - accuracy: 0.6654\n",
      "Epoch 270/300\n",
      "600/600 - 12s - loss: 1.2080 - accuracy: 0.6622\n",
      "Epoch 271/300\n",
      "600/600 - 11s - loss: 1.2104 - accuracy: 0.6641\n",
      "Epoch 272/300\n",
      "600/600 - 11s - loss: 1.1947 - accuracy: 0.6663\n",
      "Epoch 273/300\n",
      "600/600 - 12s - loss: 1.1945 - accuracy: 0.6655\n",
      "Epoch 274/300\n",
      "600/600 - 12s - loss: 1.1879 - accuracy: 0.6689\n",
      "Epoch 275/300\n",
      "600/600 - 12s - loss: 1.1791 - accuracy: 0.6713\n",
      "Epoch 276/300\n",
      "600/600 - 11s - loss: 1.1869 - accuracy: 0.6682\n",
      "Epoch 277/300\n",
      "600/600 - 11s - loss: 1.1837 - accuracy: 0.6678\n",
      "Epoch 278/300\n",
      "600/600 - 11s - loss: 1.1694 - accuracy: 0.6721\n",
      "Epoch 279/300\n",
      "600/600 - 11s - loss: 1.1695 - accuracy: 0.6719\n",
      "Epoch 280/300\n",
      "600/600 - 11s - loss: 1.1700 - accuracy: 0.6721\n",
      "Epoch 281/300\n",
      "600/600 - 12s - loss: 1.1661 - accuracy: 0.6736\n",
      "Epoch 282/300\n",
      "600/600 - 11s - loss: 1.1704 - accuracy: 0.6706\n",
      "Epoch 283/300\n",
      "600/600 - 12s - loss: 1.1500 - accuracy: 0.6772\n",
      "Epoch 284/300\n",
      "600/600 - 11s - loss: 1.1534 - accuracy: 0.6761\n",
      "Epoch 285/300\n",
      "600/600 - 12s - loss: 1.1567 - accuracy: 0.6763\n",
      "Epoch 286/300\n",
      "600/600 - 12s - loss: 1.1479 - accuracy: 0.6781\n",
      "Epoch 287/300\n",
      "600/600 - 11s - loss: 1.1475 - accuracy: 0.6776\n",
      "Epoch 288/300\n",
      "600/600 - 11s - loss: 1.1442 - accuracy: 0.6790\n",
      "Epoch 289/300\n",
      "600/600 - 11s - loss: 1.1397 - accuracy: 0.6779\n",
      "Epoch 290/300\n",
      "600/600 - 11s - loss: 1.1381 - accuracy: 0.6803\n",
      "Epoch 291/300\n",
      "600/600 - 11s - loss: 1.1348 - accuracy: 0.6803\n",
      "Epoch 292/300\n",
      "600/600 - 12s - loss: 1.1325 - accuracy: 0.6817\n",
      "Epoch 293/300\n",
      "600/600 - 11s - loss: 1.1232 - accuracy: 0.6838\n",
      "Epoch 294/300\n",
      "600/600 - 11s - loss: 1.1155 - accuracy: 0.6839\n",
      "Epoch 295/300\n",
      "600/600 - 12s - loss: 1.1248 - accuracy: 0.6833\n",
      "Epoch 296/300\n",
      "600/600 - 12s - loss: 1.1138 - accuracy: 0.6854\n",
      "Epoch 297/300\n",
      "600/600 - 12s - loss: 1.1125 - accuracy: 0.6852\n",
      "Epoch 298/300\n",
      "600/600 - 11s - loss: 1.1172 - accuracy: 0.6855\n",
      "Epoch 299/300\n",
      "600/600 - 12s - loss: 1.1017 - accuracy: 0.6890\n",
      "Epoch 300/300\n",
      "600/600 - 12s - loss: 1.1098 - accuracy: 0.6861\n"
     ]
    }
   ],
   "source": [
    "# Fitting the model\n",
    "history = model.fit(X, y, batch_size=64*3, epochs=300,verbose=2)"
   ]
  },
  {
   "cell_type": "code",
   "execution_count": null,
   "metadata": {
    "colab": {
     "base_uri": "https://localhost:8080/",
     "height": 887
    },
    "id": "5_3y7Bu_lnEr",
    "outputId": "72f21220-1b51-48d4-e9ab-fb75b4a40a51"
   },
   "outputs": [
    {
     "data": {
      "image/png": "[encoded data removed]",
      "text/plain": [
       "<Figure size 640x480 with 1 Axes>"
      ]
     },
     "metadata": {
      "tags": []
     },
     "output_type": "display_data"
    },
    {
     "data": {
      "image/png": "[encoded data removed]",
      "text/plain": [
       "<Figure size 640x480 with 1 Axes>"
      ]
     },
     "metadata": {
      "tags": []
     },
     "output_type": "display_data"
    }
   ],
   "source": [
    "import matplotlib.pyplot as plt\n",
    "acc = history.history['accuracy']\n",
    "loss = history.history['loss']\n",
    "\n",
    "epochs = range(len(acc))\n",
    "\n",
    "plt.plot(epochs, acc, 'b', label='Training accuracy')\n",
    "plt.title('Training accuracy')\n",
    "\n",
    "plt.figure()\n",
    "\n",
    "plt.plot(epochs, loss, 'b', label='Training Loss')\n",
    "plt.title('Training loss')\n",
    "plt.legend()\n",
    "\n",
    "plt.show()"
   ]
  },
  {
   "cell_type": "code",
   "execution_count": null,
   "metadata": {
    "colab": {
     "base_uri": "https://localhost:8080/"
    },
    "id": "PsGAK1nZmTrB",
    "outputId": "27505110-5c43-4e7b-b7e9-51b129ee4537"
   },
   "outputs": [
    {
     "name": "stdout",
     "output_type": "stream",
     "text": [
      "Requirement already satisfied: pyyaml in /usr/local/lib/python3.6/dist-packages (3.13)\n",
      "Requirement already satisfied: h5py in /usr/local/lib/python3.6/dist-packages (2.10.0)\n",
      "Requirement already satisfied: numpy>=1.7 in /usr/local/lib/python3.6/dist-packages (from h5py) (1.19.5)\n",
      "Requirement already satisfied: six in /usr/local/lib/python3.6/dist-packages (from h5py) (1.15.0)\n"
     ]
    }
   ],
   "source": [
    "!pip install pyyaml h5py "
   ]
  },
  {
   "cell_type": "code",
   "execution_count": null,
   "metadata": {
    "id": "uzzh46LXgY4d"
   },
   "outputs": [],
   "source": [
    "# save the model to file\n",
    "model.save('lstm_model.h5')\n",
    "# save the tokenizer\n",
    "dump(tokenizer, open('lstm_token', 'wb'))"
   ]
  },
  {
   "cell_type": "code",
   "execution_count": null,
   "metadata": {
    "id": "XNcnnvlJZ4lR"
   },
   "outputs": [],
   "source": [
    "from random import randint\n",
    "from pickle import load\n",
    "from keras.models import load_model\n",
    "from keras.preprocessing.sequence import pad_sequences"
   ]
  },
  {
   "cell_type": "code",
   "execution_count": null,
   "metadata": {
    "id": "u4vzX3tqYDTD"
   },
   "outputs": [],
   "source": [
    "def generate_text(model, tokenizer, seq_len, seed_text, num_gen_words,temperature=1.0):\n",
    "    '''\n",
    "    INPUTS:\n",
    "    model : model that was trained on text data\n",
    "    tokenizer : tokenizer that was fit on text data\n",
    "    seq_len : length of training sequence\n",
    "    seed_text : raw string text to serve as the seed\n",
    "    num_gen_words : number of words to be generated by model\n",
    "    '''\n",
    "    \n",
    "    # Final Output\n",
    "    output_text = []\n",
    "    \n",
    "    # Intial Seed Sequence\n",
    "    input_text = seed_text\n",
    "    \n",
    "    # Create num_gen_words\n",
    "    for i in range(num_gen_words):\n",
    "        \n",
    "        # Take the input text string and encode it to a sequence\n",
    "        encoded_text = tokenizer.texts_to_sequences([input_text])[0]\n",
    "        \n",
    "        # Pad sequences to our trained rate (50 words in the video)\n",
    "        pad_encoded = pad_sequences([encoded_text], maxlen=seq_len, truncating='pre')\n",
    "        \n",
    "        # Predict Class Probabilities for each word\n",
    "        pred_word_ind = model.predict_classes(pad_encoded, verbose=0)[0]\n",
    "        \n",
    "        # Grab word\n",
    "        pred_word = tokenizer.index_word[pred_word_ind] \n",
    "        \n",
    "        # Update the sequence of input text (shifting one over with the new word)\n",
    "        input_text += ' ' + pred_word\n",
    "        \n",
    "        output_text.append(pred_word)\n",
    "        \n",
    "    # Make it look like a sentence.\n",
    "    return ' '.join(output_text)"
   ]
  },
  {
   "cell_type": "code",
   "execution_count": null,
   "metadata": {
    "colab": {
     "base_uri": "https://localhost:8080/"
    },
    "id": "ETYfgaWSY51_",
    "outputId": "3de0626d-930e-4d39-abcf-935f539b4865"
   },
   "outputs": [
    {
     "name": "stderr",
     "output_type": "stream",
     "text": [
      "/usr/local/lib/python3.6/dist-packages/tensorflow/python/keras/engine/sequential.py:450: UserWarning: `model.predict_classes()` is deprecated and will be removed after 2021-01-01. Please use instead:* `np.argmax(model.predict(x), axis=-1)`,   if your model does multi-class classification   (e.g. if it uses a `softmax` last-layer activation).* `(model.predict(x) > 0.5).astype(\"int32\")`,   if your model does binary classification   (e.g. if it uses a `sigmoid` last-layer activation).\n",
      "  warnings.warn('`model.predict_classes()` is deprecated and '\n"
     ]
    },
    {
     "name": "stdout",
     "output_type": "stream",
     "text": [
      "all stored is given you through hand where is very such so yet that miss sutherland is its secret or openings ’ judgment from all the house was the disposition of the city branch of it and save the obvious which he had promised to have spoken to us to\n"
     ]
    }
   ],
   "source": [
    "generated_script = generate_text(model,tokenizer,seq_len,seed_text=\"Watson you are\",num_gen_words=50)\n",
    "print(generated_script)"
   ]
  },
  {
   "cell_type": "code",
   "execution_count": null,
   "metadata": {
    "id": "nJjmvgz8gEd9"
   },
   "outputs": [],
   "source": [
    "f =  open(\"generated_script.txt\",\"w\")\n",
    "f.write(generated_script)\n",
    "f.close()"
   ]
  },
  {
   "cell_type": "code",
   "execution_count": null,
   "metadata": {
    "id": "PdvLtLJuoCZB"
   },
   "outputs": [],
   "source": []
  },
  {
   "cell_type": "markdown",
   "metadata": {
    "id": "tpckb95OdNqI"
   },
   "source": [
    "## For Temprature = 1"
   ]
  },
  {
   "cell_type": "code",
   "execution_count": null,
   "metadata": {
    "colab": {
     "base_uri": "https://localhost:8080/",
     "height": 305
    },
    "id": "wlDbeOq7bVi6",
    "outputId": "ba58d235-d60b-40b1-c80c-e898afe05805"
   },
   "outputs": [
    {
     "name": "stderr",
     "output_type": "stream",
     "text": [
      "/usr/local/lib/python3.6/dist-packages/seaborn/_decorators.py:43: FutureWarning: Pass the following variables as keyword args: x, y. From version 0.12, the only valid positional argument will be `data`, and passing other arguments without an explicit keyword will result in an error or misinterpretation.\n",
      "  FutureWarning\n"
     ]
    },
    {
     "data": {
      "image/png": "[encoded data removed]",
      "text/plain": [
       "<Figure size 500x200 with 1 Axes>"
      ]
     },
     "metadata": {
      "tags": []
     },
     "output_type": "display_data"
    }
   ],
   "source": [
    "t1 = open(\"generated_script.txt\", 'rb').read().decode(encoding='utf-8')\n",
    "sentences1 = sent_tokenize(t1)\n",
    "tokenizer1 = RegexpTokenizer('[A-Za-z]\\w+')\n",
    "tokens1=tokenizer1.tokenize(t1)\n",
    "df1 = pd.DataFrame(tokens1)\n",
    "df1 = df1[0].value_counts()\n",
    "from nltk.probability import FreqDist\n",
    "freqdoctor = FreqDist()\n",
    "for words in df1:\n",
    "    freqdoctor[words] += 1\n",
    "df1 = df1[:5,]\n",
    "#freqdoctor\n",
    "plt.figure(figsize=(5,2))\n",
    "sns.barplot(df1.values, df1.index, alpha=0.8)\n",
    "plt.title('Top Words Overall')\n",
    "plt.ylabel('Word ', fontsize=6)\n",
    "plt.xlabel('Count of Words', fontsize=6)\n",
    "plt.show()"
   ]
  },
  {
   "cell_type": "code",
   "execution_count": null,
   "metadata": {
    "colab": {
     "base_uri": "https://localhost:8080/"
    },
    "id": "G0Wo9BruemxZ",
    "outputId": "3869abba-38d1-4c50-99cf-a04548da0318"
   },
   "outputs": [
    {
     "name": "stdout",
     "output_type": "stream",
     "text": [
      "25 unique characters\n"
     ]
    }
   ],
   "source": [
    "vocab = sorted(set(t1))\n",
    "print ('{} unique characters'.format(len(vocab)))"
   ]
  }
 ],
 "metadata": {
  "accelerator": "GPU",
  "colab": {
   "name": "LSTM Text Generator.ipynb",
   "provenance": []
  },
  "kernelspec": {
   "display_name": "Python 3",
   "language": "python",
   "name": "python3"
  },
  "language_info": {
   "codemirror_mode": {
    "name": "ipython",
    "version": 3
   },
   "file_extension": ".py",
   "mimetype": "text/x-python",
   "name": "python",
   "nbconvert_exporter": "python",
   "pygments_lexer": "ipython3",
   "version": "3.7.4"
  }
 },
 "nbformat": 4,
 "nbformat_minor": 1
}
